{
 "cells": [
  {
   "cell_type": "code",
   "execution_count": 1,
   "id": "00c1708a-bfc4-490f-8681-2c1d5973d647",
   "metadata": {},
   "outputs": [
    {
     "name": "stderr",
     "output_type": "stream",
     "text": [
      "/home/jclopez11/main/jclopez-recommenders/lib/python3.10/site-packages/tqdm/auto.py:21: TqdmWarning: IProgress not found. Please update jupyter and ipywidgets. See https://ipywidgets.readthedocs.io/en/stable/user_install.html\n",
      "  from .autonotebook import tqdm as notebook_tqdm\n",
      "2025-10-12 23:05:17.253277: I tensorflow/core/platform/cpu_feature_guard.cc:193] This TensorFlow binary is optimized with oneAPI Deep Neural Network Library (oneDNN) to use the following CPU instructions in performance-critical operations:  AVX2 AVX512F AVX512_VNNI FMA\n",
      "To enable them in other operations, rebuild TensorFlow with the appropriate compiler flags.\n",
      "2025-10-12 23:05:17.383218: I tensorflow/core/util/port.cc:104] oneDNN custom operations are on. You may see slightly different numerical results due to floating-point round-off errors from different computation orders. To turn them off, set the environment variable `TF_ENABLE_ONEDNN_OPTS=0`.\n",
      "2025-10-12 23:05:18.032334: W tensorflow/compiler/xla/stream_executor/platform/default/dso_loader.cc:64] Could not load dynamic library 'libnvinfer.so.7'; dlerror: libnvinfer.so.7: cannot open shared object file: No such file or directory\n",
      "2025-10-12 23:05:18.032399: W tensorflow/compiler/xla/stream_executor/platform/default/dso_loader.cc:64] Could not load dynamic library 'libnvinfer_plugin.so.7'; dlerror: libnvinfer_plugin.so.7: cannot open shared object file: No such file or directory\n",
      "2025-10-12 23:05:18.032405: W tensorflow/compiler/tf2tensorrt/utils/py_utils.cc:38] TF-TRT Warning: Cannot dlopen some TensorRT libraries. If you would like to use Nvidia GPU with TensorRT, please make sure the missing libraries mentioned above are installed properly.\n"
     ]
    }
   ],
   "source": [
    "import numpy as np\n",
    "import pickle as pkl\n",
    "import pandas as pd\n",
    "import json\n",
    "from sentence_transformers import SentenceTransformer"
   ]
  },
  {
   "cell_type": "code",
   "execution_count": 2,
   "id": "dd4e830e-8762-49fb-b63c-f3b467c96dfe",
   "metadata": {},
   "outputs": [],
   "source": [
    "model = SentenceTransformer('sentence-transformers/all-mpnet-base-v2')"
   ]
  },
  {
   "cell_type": "code",
   "execution_count": 3,
   "id": "750f8ea3-0470-4a1f-9d19-f4af1bdfee58",
   "metadata": {},
   "outputs": [],
   "source": [
    "user_bpr_embedding = np.load('bpr_user_matrix_128_01.npy')\n",
    "item_bpr_embedding = np.load('bpr_item_matrix_128_01.npy')\n",
    "\n",
    "node_embeddings = np.load('node_embeddings_gcf_64_transe.npy')"
   ]
  },
  {
   "cell_type": "code",
   "execution_count": 4,
   "id": "f53f0075-5800-4b68-8287-7a7d075d5129",
   "metadata": {},
   "outputs": [
    {
     "data": {
      "text/plain": [
       "(196, 128)"
      ]
     },
     "execution_count": 4,
     "metadata": {},
     "output_type": "execute_result"
    }
   ],
   "source": [
    "item_bpr_embedding.shape"
   ]
  },
  {
   "cell_type": "code",
   "execution_count": 4,
   "id": "8a9fcbfc-9f6b-49f6-b6d2-4c8afcbc664b",
   "metadata": {},
   "outputs": [],
   "source": [
    "n_users = 6863"
   ]
  },
  {
   "cell_type": "code",
   "execution_count": 8,
   "id": "bdf1593d-f717-4692-9ad8-cc23ad81afdd",
   "metadata": {},
   "outputs": [],
   "source": [
    "with open('pickles/course_texts.pkl', 'rb') as f:\n",
    "    course_texts = pkl.load(f)"
   ]
  },
  {
   "cell_type": "code",
   "execution_count": 9,
   "id": "96818a47-997a-45d5-86bb-0bb46d11b11c",
   "metadata": {},
   "outputs": [],
   "source": [
    "with open('id2entity.pkl', 'rb') as f:\n",
    "    id2entity = pkl.load(f)"
   ]
  },
  {
   "cell_type": "markdown",
   "id": "769978c0-2aca-4818-b615-ce08d36a6dba",
   "metadata": {},
   "source": [
    "# Train"
   ]
  },
  {
   "cell_type": "code",
   "execution_count": 5,
   "id": "0fbdd77c-9d59-4b82-a586-c950c2127482",
   "metadata": {},
   "outputs": [],
   "source": [
    "with open('train_users_bpr_4.pkl', 'rb') as f:\n",
    "    users = pkl.load(f)"
   ]
  },
  {
   "cell_type": "code",
   "execution_count": 6,
   "id": "8ae33be9-1a2e-4498-adbb-528b92778111",
   "metadata": {},
   "outputs": [],
   "source": [
    "with open('train_items_preferred_bpr_4.pkl', 'rb') as f:\n",
    "    items_preferred = pkl.load(f)"
   ]
  },
  {
   "cell_type": "code",
   "execution_count": 7,
   "id": "2769413d-9dc2-436e-a94f-58b698afd0f7",
   "metadata": {},
   "outputs": [],
   "source": [
    "with open('train_items_not_preferred_bpr_4.pkl', 'rb') as f:\n",
    "    items_not_preferred = pkl.load(f)"
   ]
  },
  {
   "cell_type": "code",
   "execution_count": 10,
   "id": "10c183e4-abba-4b94-9d0b-26c52aa86565",
   "metadata": {},
   "outputs": [
    {
     "data": {
      "text/plain": [
       "11924"
      ]
     },
     "execution_count": 10,
     "metadata": {},
     "output_type": "execute_result"
    }
   ],
   "source": [
    "len(users)"
   ]
  },
  {
   "cell_type": "code",
   "execution_count": 11,
   "id": "eab3ab14-1882-4bcd-83b0-c190ca5a87fb",
   "metadata": {},
   "outputs": [
    {
     "data": {
      "text/plain": [
       "11924"
      ]
     },
     "execution_count": 11,
     "metadata": {},
     "output_type": "execute_result"
    }
   ],
   "source": [
    "len(items_preferred)"
   ]
  },
  {
   "cell_type": "code",
   "execution_count": 12,
   "id": "eb4252cd-d79b-4314-8ee7-50f8cbf774ff",
   "metadata": {},
   "outputs": [
    {
     "data": {
      "text/plain": [
       "11924"
      ]
     },
     "execution_count": 12,
     "metadata": {},
     "output_type": "execute_result"
    }
   ],
   "source": [
    "len(items_not_preferred)"
   ]
  },
  {
   "cell_type": "code",
   "execution_count": 13,
   "id": "b766d25a-39f3-4fd5-ad7d-427d39d389b1",
   "metadata": {},
   "outputs": [],
   "source": [
    "df = pd.DataFrame([[user, preferred, not_preferred] for user, preferred, not_preferred in zip(users, items_preferred, items_not_preferred)], columns=['user_id', 'pos_item_id', 'neg_item_id'])"
   ]
  },
  {
   "cell_type": "code",
   "execution_count": 15,
   "id": "4a72c916-a88b-4f10-b93c-848fdba9bd40",
   "metadata": {},
   "outputs": [],
   "source": [
    "def cumulative_list(series):\n",
    "    result = []\n",
    "    acc = []\n",
    "    for x in series:\n",
    "        acc.append(x + n_users)\n",
    "        result.append(acc.copy())\n",
    "    return result"
   ]
  },
  {
   "cell_type": "code",
   "execution_count": 16,
   "id": "8ea3daba-fcef-44e9-a42c-ae6cd9db7588",
   "metadata": {},
   "outputs": [],
   "source": [
    "df['item_seq'] = df.groupby('user_id')['pos_item_id'].transform(cumulative_list)"
   ]
  },
  {
   "cell_type": "code",
   "execution_count": 17,
   "id": "554bf014-3037-4688-a99f-0f405724043a",
   "metadata": {},
   "outputs": [],
   "source": [
    "def get_text_emb_from_index(index):\n",
    "    entity = id2entity[index + n_users]\n",
    "    text = course_texts[entity]\n",
    "    embedding = model.encode(text)\n",
    "    return embedding"
   ]
  },
  {
   "cell_type": "code",
   "execution_count": 18,
   "id": "a3bad9b0-4e0e-4f4c-ab75-6859e4faf455",
   "metadata": {},
   "outputs": [],
   "source": [
    "df['pos_item_text_embedding'] = df['pos_item_id'].apply(get_text_emb_from_index)"
   ]
  },
  {
   "cell_type": "code",
   "execution_count": 19,
   "id": "4c3227ce-0ee6-4c12-9c72-7a1fed75912b",
   "metadata": {},
   "outputs": [],
   "source": [
    "df['neg_item_text_embedding'] = df['neg_item_id'].apply(get_text_emb_from_index)"
   ]
  },
  {
   "cell_type": "code",
   "execution_count": 20,
   "id": "e7dba18f-5cf4-47b2-9d8d-213c1e95f91d",
   "metadata": {},
   "outputs": [],
   "source": [
    "df_user_vectors = df[['user_id', 'pos_item_text_embedding']].groupby('user_id', as_index=False).mean()"
   ]
  },
  {
   "cell_type": "code",
   "execution_count": 21,
   "id": "0cf10f0d-93fa-4d7d-bc2a-3f2bbb884ca6",
   "metadata": {},
   "outputs": [],
   "source": [
    "df_user_vectors = df_user_vectors.rename(columns={'pos_item_text_embedding': 'user_text_embedding'})\n",
    "df = df.merge(df_user_vectors, on='user_id')"
   ]
  },
  {
   "cell_type": "code",
   "execution_count": 22,
   "id": "9bf3ce1c-7882-4554-83ee-de5385dc4dae",
   "metadata": {},
   "outputs": [],
   "source": [
    "def cumulative_user_embedding(series):\n",
    "    result = []\n",
    "    total = np.zeros_like(series.iloc[0])\n",
    "    for arr in series:\n",
    "        total = total + arr\n",
    "        result.append(total.copy())\n",
    "    return result"
   ]
  },
  {
   "cell_type": "code",
   "execution_count": 24,
   "id": "bd5343aa-df0e-4152-8903-3103f7cea152",
   "metadata": {},
   "outputs": [],
   "source": [
    "df['user_cum_text_embedding'] = df.groupby('user_id')['pos_item_text_embedding'].transform(cumulative_user_embedding)\n",
    "df['user_cum_count'] = df.groupby('user_id')['pos_item_text_embedding'].cumcount()"
   ]
  },
  {
   "cell_type": "code",
   "execution_count": 27,
   "id": "fbfda7d2-24fe-42e2-bd55-f217d19fa68b",
   "metadata": {},
   "outputs": [],
   "source": [
    "df['user_cum_text_embedding'] = df['user_cum_text_embedding'] / (df['user_cum_count'] + 1)\n",
    "df = df.drop(columns='user_cum_count')"
   ]
  },
  {
   "cell_type": "code",
   "execution_count": 28,
   "id": "0f116dcb-0302-424f-b2d7-883ea32c57d2",
   "metadata": {},
   "outputs": [],
   "source": [
    "df['pos_item_bpr_embedding'] = df['pos_item_id'].apply(lambda x: item_bpr_embedding[x, :])\n",
    "df['neg_item_bpr_embedding'] = df['neg_item_id'].apply(lambda x: item_bpr_embedding[x, :])\n",
    "df['user_bpr_embedding'] = df['user_id'].apply(lambda x: user_bpr_embedding[x, :])"
   ]
  },
  {
   "cell_type": "code",
   "execution_count": 29,
   "id": "b2744c5b-f57a-4d47-ab42-f24962e1fcfa",
   "metadata": {},
   "outputs": [],
   "source": [
    "df['pos_item_graph_embedding'] = df['pos_item_id'].apply(lambda x: node_embeddings[x + n_users, :])\n",
    "df['neg_item_graph_embedding'] = df['neg_item_id'].apply(lambda x: node_embeddings[x + n_users, :])\n",
    "df['user_graph_embedding'] = df['user_id'].apply(lambda x: node_embeddings[x, :])"
   ]
  },
  {
   "cell_type": "code",
   "execution_count": 30,
   "id": "1bbb9274-3d61-48be-b196-64efc0e0d712",
   "metadata": {},
   "outputs": [],
   "source": [
    "df['pos_item_id'] = df['pos_item_id'] + n_users\n",
    "df['neg_item_id'] = df['neg_item_id'] + n_users"
   ]
  },
  {
   "cell_type": "code",
   "execution_count": 31,
   "id": "a3288dac-4d3a-4218-b185-783cffd8b4d9",
   "metadata": {},
   "outputs": [
    {
     "data": {
      "text/html": [
       "<div>\n",
       "<style scoped>\n",
       "    .dataframe tbody tr th:only-of-type {\n",
       "        vertical-align: middle;\n",
       "    }\n",
       "\n",
       "    .dataframe tbody tr th {\n",
       "        vertical-align: top;\n",
       "    }\n",
       "\n",
       "    .dataframe thead th {\n",
       "        text-align: right;\n",
       "    }\n",
       "</style>\n",
       "<table border=\"1\" class=\"dataframe\">\n",
       "  <thead>\n",
       "    <tr style=\"text-align: right;\">\n",
       "      <th></th>\n",
       "      <th>user_id</th>\n",
       "      <th>pos_item_id</th>\n",
       "      <th>neg_item_id</th>\n",
       "      <th>item_seq</th>\n",
       "      <th>pos_item_text_embedding</th>\n",
       "      <th>neg_item_text_embedding</th>\n",
       "      <th>user_text_embedding</th>\n",
       "      <th>user_cum_text_embedding</th>\n",
       "      <th>pos_item_bpr_embedding</th>\n",
       "      <th>neg_item_bpr_embedding</th>\n",
       "      <th>user_bpr_embedding</th>\n",
       "      <th>pos_item_graph_embedding</th>\n",
       "      <th>neg_item_graph_embedding</th>\n",
       "      <th>user_graph_embedding</th>\n",
       "    </tr>\n",
       "  </thead>\n",
       "  <tbody>\n",
       "    <tr>\n",
       "      <th>0</th>\n",
       "      <td>0</td>\n",
       "      <td>6897</td>\n",
       "      <td>7001</td>\n",
       "      <td>[6897]</td>\n",
       "      <td>[0.00029639987, 0.014771659, 0.014058901, -0.0...</td>\n",
       "      <td>[-0.021708943, -0.07313048, 0.0040764194, 0.01...</td>\n",
       "      <td>[0.00029639987, 0.014771659, 0.014058901, -0.0...</td>\n",
       "      <td>[0.00029639987, 0.014771659, 0.014058901, -0.0...</td>\n",
       "      <td>[-0.004581114, 0.0626458, -0.02941907, -0.0164...</td>\n",
       "      <td>[0.02627153, -0.042739343, 0.0686576, 0.071189...</td>\n",
       "      <td>[-0.16485311, 0.13305487, -0.109800704, -0.159...</td>\n",
       "      <td>[-0.019909197, 0.015652379, -0.18591776, -0.19...</td>\n",
       "      <td>[-0.09981072, -0.17273627, -0.06508206, -0.185...</td>\n",
       "      <td>[-0.21868221, 0.107340455, 0.20054282, 0.15184...</td>\n",
       "    </tr>\n",
       "    <tr>\n",
       "      <th>1</th>\n",
       "      <td>1</td>\n",
       "      <td>6920</td>\n",
       "      <td>6998</td>\n",
       "      <td>[6920]</td>\n",
       "      <td>[-0.001356997, -0.027733184, 0.010143433, -0.0...</td>\n",
       "      <td>[0.06441419, 0.036574744, 0.0004071652, -0.046...</td>\n",
       "      <td>[-0.001356997, -0.027733184, 0.010143433, -0.0...</td>\n",
       "      <td>[-0.001356997, -0.027733184, 0.010143433, -0.0...</td>\n",
       "      <td>[-0.031264078, 0.065558866, 0.002417838, -0.05...</td>\n",
       "      <td>[0.11860577, -0.10629058, 0.09773831, 0.059424...</td>\n",
       "      <td>[-0.15681404, 0.14787957, -0.14133789, -0.1282...</td>\n",
       "      <td>[0.21109915, 0.16339235, 0.031736396, -0.01513...</td>\n",
       "      <td>[-0.033010166, -0.1609984, -0.0942061, -0.1157...</td>\n",
       "      <td>[0.16515407, 0.18278724, -0.07278056, -0.06131...</td>\n",
       "    </tr>\n",
       "    <tr>\n",
       "      <th>2</th>\n",
       "      <td>2</td>\n",
       "      <td>6937</td>\n",
       "      <td>6992</td>\n",
       "      <td>[6937]</td>\n",
       "      <td>[0.009646171, 0.015768941, 0.0102583, 0.011016...</td>\n",
       "      <td>[0.030553505, -0.08276028, 0.021069285, -0.022...</td>\n",
       "      <td>[0.01137045, -0.021448795, 0.0008535719, 0.005...</td>\n",
       "      <td>[0.009646171, 0.015768941, 0.0102583, 0.011016...</td>\n",
       "      <td>[-0.048642207, 0.019007254, -0.033599593, -0.0...</td>\n",
       "      <td>[0.10899715, -0.09564237, 0.10501876, 0.085825...</td>\n",
       "      <td>[-0.12063337, 0.13376932, -0.13144864, -0.0975...</td>\n",
       "      <td>[-0.07782954, 0.19538878, 0.08653913, -0.04023...</td>\n",
       "      <td>[0.041632142, 0.070655555, -0.13588788, -0.160...</td>\n",
       "      <td>[-0.21761492, 0.1274874, 0.19495715, -0.179376...</td>\n",
       "    </tr>\n",
       "    <tr>\n",
       "      <th>3</th>\n",
       "      <td>2</td>\n",
       "      <td>6961</td>\n",
       "      <td>7043</td>\n",
       "      <td>[6937, 6961]</td>\n",
       "      <td>[0.03704412, -0.011753682, 0.0050762245, 0.021...</td>\n",
       "      <td>[-0.007348519, -0.056608632, -0.011322977, 0.0...</td>\n",
       "      <td>[0.01137045, -0.021448795, 0.0008535719, 0.005...</td>\n",
       "      <td>[0.023345144, 0.0020076297, 0.007667262, 0.016...</td>\n",
       "      <td>[-0.014944556, -0.028715644, 0.0095228795, 0.0...</td>\n",
       "      <td>[0.120994814, -0.089827366, 0.10192869, 0.0929...</td>\n",
       "      <td>[-0.12063337, 0.13376932, -0.13144864, -0.0975...</td>\n",
       "      <td>[0.16374268, -0.07315293, 0.10547099, 0.158405...</td>\n",
       "      <td>[0.03657927, -0.060817167, -0.195846, -0.21245...</td>\n",
       "      <td>[-0.21761492, 0.1274874, 0.19495715, -0.179376...</td>\n",
       "    </tr>\n",
       "    <tr>\n",
       "      <th>4</th>\n",
       "      <td>2</td>\n",
       "      <td>6895</td>\n",
       "      <td>7040</td>\n",
       "      <td>[6937, 6961, 6895]</td>\n",
       "      <td>[-0.031121682, -0.08368267, 8.339915e-05, 0.06...</td>\n",
       "      <td>[-0.004670808, -0.05079265, 0.0073155914, -0.0...</td>\n",
       "      <td>[0.01137045, -0.021448795, 0.0008535719, 0.005...</td>\n",
       "      <td>[0.0051895357, -0.026555805, 0.0051393076, 0.0...</td>\n",
       "      <td>[-0.073091574, 0.10878877, -0.07272676, -0.079...</td>\n",
       "      <td>[0.09851998, -0.10024271, 0.09955378, 0.079989...</td>\n",
       "      <td>[-0.12063337, 0.13376932, -0.13144864, -0.0975...</td>\n",
       "      <td>[0.18731615, 0.13930675, 0.13596186, 0.1819212...</td>\n",
       "      <td>[-0.022520965, 0.16019231, -0.16499598, -0.088...</td>\n",
       "      <td>[-0.21761492, 0.1274874, 0.19495715, -0.179376...</td>\n",
       "    </tr>\n",
       "  </tbody>\n",
       "</table>\n",
       "</div>"
      ],
      "text/plain": [
       "   user_id  pos_item_id  neg_item_id            item_seq  \\\n",
       "0        0         6897         7001              [6897]   \n",
       "1        1         6920         6998              [6920]   \n",
       "2        2         6937         6992              [6937]   \n",
       "3        2         6961         7043        [6937, 6961]   \n",
       "4        2         6895         7040  [6937, 6961, 6895]   \n",
       "\n",
       "                             pos_item_text_embedding  \\\n",
       "0  [0.00029639987, 0.014771659, 0.014058901, -0.0...   \n",
       "1  [-0.001356997, -0.027733184, 0.010143433, -0.0...   \n",
       "2  [0.009646171, 0.015768941, 0.0102583, 0.011016...   \n",
       "3  [0.03704412, -0.011753682, 0.0050762245, 0.021...   \n",
       "4  [-0.031121682, -0.08368267, 8.339915e-05, 0.06...   \n",
       "\n",
       "                             neg_item_text_embedding  \\\n",
       "0  [-0.021708943, -0.07313048, 0.0040764194, 0.01...   \n",
       "1  [0.06441419, 0.036574744, 0.0004071652, -0.046...   \n",
       "2  [0.030553505, -0.08276028, 0.021069285, -0.022...   \n",
       "3  [-0.007348519, -0.056608632, -0.011322977, 0.0...   \n",
       "4  [-0.004670808, -0.05079265, 0.0073155914, -0.0...   \n",
       "\n",
       "                                 user_text_embedding  \\\n",
       "0  [0.00029639987, 0.014771659, 0.014058901, -0.0...   \n",
       "1  [-0.001356997, -0.027733184, 0.010143433, -0.0...   \n",
       "2  [0.01137045, -0.021448795, 0.0008535719, 0.005...   \n",
       "3  [0.01137045, -0.021448795, 0.0008535719, 0.005...   \n",
       "4  [0.01137045, -0.021448795, 0.0008535719, 0.005...   \n",
       "\n",
       "                             user_cum_text_embedding  \\\n",
       "0  [0.00029639987, 0.014771659, 0.014058901, -0.0...   \n",
       "1  [-0.001356997, -0.027733184, 0.010143433, -0.0...   \n",
       "2  [0.009646171, 0.015768941, 0.0102583, 0.011016...   \n",
       "3  [0.023345144, 0.0020076297, 0.007667262, 0.016...   \n",
       "4  [0.0051895357, -0.026555805, 0.0051393076, 0.0...   \n",
       "\n",
       "                              pos_item_bpr_embedding  \\\n",
       "0  [-0.004581114, 0.0626458, -0.02941907, -0.0164...   \n",
       "1  [-0.031264078, 0.065558866, 0.002417838, -0.05...   \n",
       "2  [-0.048642207, 0.019007254, -0.033599593, -0.0...   \n",
       "3  [-0.014944556, -0.028715644, 0.0095228795, 0.0...   \n",
       "4  [-0.073091574, 0.10878877, -0.07272676, -0.079...   \n",
       "\n",
       "                              neg_item_bpr_embedding  \\\n",
       "0  [0.02627153, -0.042739343, 0.0686576, 0.071189...   \n",
       "1  [0.11860577, -0.10629058, 0.09773831, 0.059424...   \n",
       "2  [0.10899715, -0.09564237, 0.10501876, 0.085825...   \n",
       "3  [0.120994814, -0.089827366, 0.10192869, 0.0929...   \n",
       "4  [0.09851998, -0.10024271, 0.09955378, 0.079989...   \n",
       "\n",
       "                                  user_bpr_embedding  \\\n",
       "0  [-0.16485311, 0.13305487, -0.109800704, -0.159...   \n",
       "1  [-0.15681404, 0.14787957, -0.14133789, -0.1282...   \n",
       "2  [-0.12063337, 0.13376932, -0.13144864, -0.0975...   \n",
       "3  [-0.12063337, 0.13376932, -0.13144864, -0.0975...   \n",
       "4  [-0.12063337, 0.13376932, -0.13144864, -0.0975...   \n",
       "\n",
       "                            pos_item_graph_embedding  \\\n",
       "0  [-0.019909197, 0.015652379, -0.18591776, -0.19...   \n",
       "1  [0.21109915, 0.16339235, 0.031736396, -0.01513...   \n",
       "2  [-0.07782954, 0.19538878, 0.08653913, -0.04023...   \n",
       "3  [0.16374268, -0.07315293, 0.10547099, 0.158405...   \n",
       "4  [0.18731615, 0.13930675, 0.13596186, 0.1819212...   \n",
       "\n",
       "                            neg_item_graph_embedding  \\\n",
       "0  [-0.09981072, -0.17273627, -0.06508206, -0.185...   \n",
       "1  [-0.033010166, -0.1609984, -0.0942061, -0.1157...   \n",
       "2  [0.041632142, 0.070655555, -0.13588788, -0.160...   \n",
       "3  [0.03657927, -0.060817167, -0.195846, -0.21245...   \n",
       "4  [-0.022520965, 0.16019231, -0.16499598, -0.088...   \n",
       "\n",
       "                                user_graph_embedding  \n",
       "0  [-0.21868221, 0.107340455, 0.20054282, 0.15184...  \n",
       "1  [0.16515407, 0.18278724, -0.07278056, -0.06131...  \n",
       "2  [-0.21761492, 0.1274874, 0.19495715, -0.179376...  \n",
       "3  [-0.21761492, 0.1274874, 0.19495715, -0.179376...  \n",
       "4  [-0.21761492, 0.1274874, 0.19495715, -0.179376...  "
      ]
     },
     "execution_count": 31,
     "metadata": {},
     "output_type": "execute_result"
    }
   ],
   "source": [
    "df.head()"
   ]
  },
  {
   "cell_type": "code",
   "execution_count": 17,
   "id": "baf73855-0298-4088-8553-241c5e1b54d4",
   "metadata": {},
   "outputs": [],
   "source": [
    "with open('train_bpr_all_vectors_128_01_transe.pkl', 'wb') as f:\n",
    "    pkl.dump(df, f)"
   ]
  },
  {
   "cell_type": "code",
   "execution_count": 33,
   "id": "0df500f7-0df0-4dd3-827a-f6de8ab88cbf",
   "metadata": {},
   "outputs": [],
   "source": [
    "df_binary_pos = df[['user_id', 'pos_item_id', 'item_seq', 'pos_item_text_embedding', 'user_text_embedding', 'user_cum_text_embedding', 'pos_item_bpr_embedding', 'user_bpr_embedding', 'pos_item_graph_embedding', 'user_graph_embedding']].copy()\n",
    "df_binary_pos.columns = ['user_id', 'item_id', 'item_seq', 'item_text_embedding', 'user_text_embedding', 'user_cum_text_embedding', 'item_bpr_embedding', 'user_bpr_embedding', 'item_graph_embedding', 'user_graph_embedding']\n",
    "df_binary_pos['label'] = 1"
   ]
  },
  {
   "cell_type": "code",
   "execution_count": 34,
   "id": "c538895e-5845-42ec-82a0-40fa9d44ed76",
   "metadata": {},
   "outputs": [],
   "source": [
    "df_binary_neg = df[['user_id', 'neg_item_id', 'item_seq', 'neg_item_text_embedding', 'user_text_embedding', 'user_cum_text_embedding', 'neg_item_bpr_embedding', 'user_bpr_embedding', 'neg_item_graph_embedding', 'user_graph_embedding']].copy()\n",
    "df_binary_neg.columns = ['user_id', 'item_id', 'item_seq', 'item_text_embedding', 'user_text_embedding', 'user_cum_text_embedding', 'item_bpr_embedding', 'user_bpr_embedding', 'item_graph_embedding', 'user_graph_embedding']\n",
    "df_binary_neg['label'] = 0"
   ]
  },
  {
   "cell_type": "code",
   "execution_count": 35,
   "id": "b546cd5d-4220-4830-b392-ce6ba9769592",
   "metadata": {},
   "outputs": [],
   "source": [
    "df_binary = pd.concat([df_binary_pos, df_binary_neg])"
   ]
  },
  {
   "cell_type": "code",
   "execution_count": 18,
   "id": "dc72a390-d20b-4717-9c0c-e3a685dcb925",
   "metadata": {},
   "outputs": [],
   "source": [
    "with open('train_binary_all_vectors_128_01_transe.pkl', 'wb') as f:\n",
    "    pkl.dump(df_binary, f)"
   ]
  },
  {
   "cell_type": "markdown",
   "id": "17be8f5d-e261-4295-8035-182612d6e8de",
   "metadata": {},
   "source": [
    "# Test"
   ]
  },
  {
   "cell_type": "code",
   "execution_count": 5,
   "id": "95e3c313-3fec-415c-9d2b-6a7dcc15c318",
   "metadata": {},
   "outputs": [],
   "source": [
    "with open('test_users_bpr_4.pkl', 'rb') as f:\n",
    "    users = pkl.load(f)"
   ]
  },
  {
   "cell_type": "code",
   "execution_count": 6,
   "id": "0190c3d6-8270-400d-bd2a-a413d399d988",
   "metadata": {},
   "outputs": [],
   "source": [
    "with open('test_items_preferred_bpr_4.pkl', 'rb') as f:\n",
    "    items_preferred = pkl.load(f)"
   ]
  },
  {
   "cell_type": "code",
   "execution_count": 7,
   "id": "53053972-ee4f-41a9-8010-0df8eb5aa5f2",
   "metadata": {},
   "outputs": [],
   "source": [
    "with open('test_items_not_preferred_bpr_4.pkl', 'rb') as f:\n",
    "    items_not_preferred = pkl.load(f)"
   ]
  },
  {
   "cell_type": "code",
   "execution_count": 10,
   "id": "78d3ed5b-8b29-4ec8-accf-7b909b53c0da",
   "metadata": {},
   "outputs": [
    {
     "data": {
      "text/plain": [
       "11924"
      ]
     },
     "execution_count": 10,
     "metadata": {},
     "output_type": "execute_result"
    }
   ],
   "source": [
    "len(users)"
   ]
  },
  {
   "cell_type": "code",
   "execution_count": 11,
   "id": "0341ab2b-572e-46f0-9761-3dee7a1b70fd",
   "metadata": {},
   "outputs": [
    {
     "data": {
      "text/plain": [
       "11924"
      ]
     },
     "execution_count": 11,
     "metadata": {},
     "output_type": "execute_result"
    }
   ],
   "source": [
    "len(items_preferred)"
   ]
  },
  {
   "cell_type": "code",
   "execution_count": 12,
   "id": "f567f8a5-d5c8-437d-895c-135096fd949a",
   "metadata": {},
   "outputs": [
    {
     "data": {
      "text/plain": [
       "11924"
      ]
     },
     "execution_count": 12,
     "metadata": {},
     "output_type": "execute_result"
    }
   ],
   "source": [
    "len(items_not_preferred)"
   ]
  },
  {
   "cell_type": "code",
   "execution_count": 13,
   "id": "740ce7f6-06ea-4a42-ad49-b2ad4beb0e36",
   "metadata": {},
   "outputs": [],
   "source": [
    "df = pd.DataFrame([[user, preferred, not_preferred] for user, preferred, not_preferred in zip(users, items_preferred, items_not_preferred)], columns=['user_id', 'pos_item_id', 'neg_item_id'])"
   ]
  },
  {
   "cell_type": "code",
   "execution_count": 16,
   "id": "c9436260-508b-499b-b8a1-951c56475a18",
   "metadata": {},
   "outputs": [],
   "source": [
    "df['item_seq'] = df.groupby('user_id')['pos_item_id'].transform(cumulative_list)"
   ]
  },
  {
   "cell_type": "code",
   "execution_count": 18,
   "id": "6be1bdd8-fc7d-498e-a495-7497d025dcd9",
   "metadata": {},
   "outputs": [],
   "source": [
    "df['pos_item_text_embedding'] = df['pos_item_id'].apply(get_text_emb_from_index)"
   ]
  },
  {
   "cell_type": "code",
   "execution_count": 19,
   "id": "8debc62d-2fba-4a6a-8e54-fa8c29f5ca88",
   "metadata": {},
   "outputs": [],
   "source": [
    "df['neg_item_text_embedding'] = df['neg_item_id'].apply(get_text_emb_from_index)"
   ]
  },
  {
   "cell_type": "code",
   "execution_count": 20,
   "id": "e2c8f099-d3cf-4b8f-902a-b12914e37cfb",
   "metadata": {},
   "outputs": [],
   "source": [
    "df_user_vectors = df[['user_id', 'pos_item_text_embedding']].groupby('user_id', as_index=False).mean()"
   ]
  },
  {
   "cell_type": "code",
   "execution_count": 21,
   "id": "bec4c5ec-ff2e-4417-9fb5-14217e8d3697",
   "metadata": {},
   "outputs": [],
   "source": [
    "df_user_vectors = df_user_vectors.rename(columns={'pos_item_text_embedding': 'user_text_embedding'})\n",
    "df = df.merge(df_user_vectors, on='user_id')"
   ]
  },
  {
   "cell_type": "code",
   "execution_count": 24,
   "id": "8d4d3134-230f-43a9-b5d0-d98b5799d476",
   "metadata": {},
   "outputs": [],
   "source": [
    "df['user_cum_text_embedding'] = df.groupby('user_id')['pos_item_text_embedding'].transform(cumulative_user_embedding)\n",
    "df['user_cum_count'] = df.groupby('user_id')['pos_item_text_embedding'].cumcount()"
   ]
  },
  {
   "cell_type": "code",
   "execution_count": 27,
   "id": "24543e87-da08-4092-ae82-13c5db5bd673",
   "metadata": {},
   "outputs": [],
   "source": [
    "df['user_cum_text_embedding'] = df['user_cum_text_embedding'] / (df['user_cum_count'] + 1)\n",
    "df = df.drop(columns='user_cum_count')"
   ]
  },
  {
   "cell_type": "code",
   "execution_count": 28,
   "id": "9da9fe18-bbb9-4a09-9859-4e1e4c6ad28e",
   "metadata": {},
   "outputs": [],
   "source": [
    "df['pos_item_bpr_embedding'] = df['pos_item_id'].apply(lambda x: item_bpr_embedding[x, :])\n",
    "df['neg_item_bpr_embedding'] = df['neg_item_id'].apply(lambda x: item_bpr_embedding[x, :])\n",
    "df['user_bpr_embedding'] = df['user_id'].apply(lambda x: user_bpr_embedding[x, :])"
   ]
  },
  {
   "cell_type": "code",
   "execution_count": 29,
   "id": "e0ef95e7-496d-451f-8f70-823231d7ab8c",
   "metadata": {},
   "outputs": [],
   "source": [
    "df['pos_item_graph_embedding'] = df['pos_item_id'].apply(lambda x: node_embeddings[x + n_users, :])\n",
    "df['neg_item_graph_embedding'] = df['neg_item_id'].apply(lambda x: node_embeddings[x + n_users, :])\n",
    "df['user_graph_embedding'] = df['user_id'].apply(lambda x: node_embeddings[x, :])"
   ]
  },
  {
   "cell_type": "code",
   "execution_count": 30,
   "id": "d0add85e-bbff-412e-a61e-4dc992b9c7a8",
   "metadata": {},
   "outputs": [],
   "source": [
    "df['pos_item_id'] = df['pos_item_id'] + n_users\n",
    "df['neg_item_id'] = df['neg_item_id'] + n_users"
   ]
  },
  {
   "cell_type": "code",
   "execution_count": 33,
   "id": "4fabc022-25d3-4081-8afc-bf76f3093f91",
   "metadata": {},
   "outputs": [],
   "source": [
    "df_binary_pos = df[['user_id', 'pos_item_id', 'item_seq', 'pos_item_text_embedding', 'user_text_embedding', 'user_cum_text_embedding', 'pos_item_bpr_embedding', 'user_bpr_embedding', 'pos_item_graph_embedding', 'user_graph_embedding']].copy()\n",
    "df_binary_pos.columns = ['user_id', 'item_id', 'item_seq', 'item_text_embedding', 'user_text_embedding', 'user_cum_text_embedding', 'item_bpr_embedding', 'user_bpr_embedding', 'item_graph_embedding', 'user_graph_embedding']\n",
    "df_binary_pos['label'] = 1"
   ]
  },
  {
   "cell_type": "code",
   "execution_count": 34,
   "id": "f4ae124f-ac3a-4e16-9e41-b577c15f9dd1",
   "metadata": {},
   "outputs": [],
   "source": [
    "df_binary_neg = df[['user_id', 'neg_item_id', 'item_seq', 'neg_item_text_embedding', 'user_text_embedding', 'user_cum_text_embedding', 'neg_item_bpr_embedding', 'user_bpr_embedding', 'neg_item_graph_embedding', 'user_graph_embedding']].copy()\n",
    "df_binary_neg.columns = ['user_id', 'item_id', 'item_seq', 'item_text_embedding', 'user_text_embedding', 'user_cum_text_embedding', 'item_bpr_embedding', 'user_bpr_embedding', 'item_graph_embedding', 'user_graph_embedding']\n",
    "df_binary_neg['label'] = 0"
   ]
  },
  {
   "cell_type": "code",
   "execution_count": 35,
   "id": "393a2b46-42b0-43e1-bb39-cd8822057fa9",
   "metadata": {},
   "outputs": [],
   "source": [
    "df_binary = pd.concat([df_binary_pos, df_binary_neg])"
   ]
  },
  {
   "cell_type": "code",
   "execution_count": 7,
   "id": "baf68b27-8095-42c2-9d65-a45cf620d4d4",
   "metadata": {},
   "outputs": [],
   "source": [
    "with open('train_bpr_all_vectors_128_01_transe.pkl', 'rb') as f:\n",
    "    df_train = pkl.load(f)"
   ]
  },
  {
   "cell_type": "code",
   "execution_count": 11,
   "id": "044130ae-db15-4867-9498-50623af620a0",
   "metadata": {},
   "outputs": [],
   "source": [
    "user_embs = df_train[['user_id', 'user_text_embedding']].groupby('user_id')['user_text_embedding'].mean().to_dict()"
   ]
  },
  {
   "cell_type": "code",
   "execution_count": 14,
   "id": "ef2a36d9-a620-4a59-a0e8-6bf613d462d6",
   "metadata": {},
   "outputs": [],
   "source": [
    "df['user_text_embedding'] = df['user_id'].map(user_embs)"
   ]
  },
  {
   "cell_type": "code",
   "execution_count": 15,
   "id": "4b12703d-0465-4e15-884b-a01cd2f9da9a",
   "metadata": {},
   "outputs": [],
   "source": [
    "df_binary['user_text_embedding'] = df_binary['user_id'].map(user_embs)"
   ]
  },
  {
   "cell_type": "code",
   "execution_count": 24,
   "id": "17578d6d-49dd-4647-85a5-d13291de509f",
   "metadata": {},
   "outputs": [],
   "source": [
    "user_seqs = df_train[['user_id', 'item_seq']].groupby('user_id')['item_seq'].last().to_dict()"
   ]
  },
  {
   "cell_type": "code",
   "execution_count": 28,
   "id": "14ad1c2d-6c83-4230-a781-1bac6e3a72b4",
   "metadata": {},
   "outputs": [],
   "source": [
    "df['item_seq_train'] = df['user_id'].map(user_seqs)\n",
    "df_binary['item_seq_train'] = df_binary['user_id'].map(user_seqs)"
   ]
  },
  {
   "cell_type": "code",
   "execution_count": 29,
   "id": "b35f04ba-ae5a-43ae-ad4b-7857996f56f7",
   "metadata": {},
   "outputs": [],
   "source": [
    "with open('test_bpr_all_vectors_128_01_transe.pkl', 'wb') as f:\n",
    "    pkl.dump(df, f)"
   ]
  },
  {
   "cell_type": "code",
   "execution_count": 30,
   "id": "193b5f9f-8c54-4638-92d0-b938d3ebd6ee",
   "metadata": {},
   "outputs": [],
   "source": [
    "with open('test_binary_all_vectors_128_01_transe.pkl', 'wb') as f:\n",
    "    pkl.dump(df_binary, f)"
   ]
  },
  {
   "cell_type": "code",
   "execution_count": 31,
   "id": "d0e47764-3098-4fea-8c33-8c00e1acf765",
   "metadata": {},
   "outputs": [
    {
     "data": {
      "text/html": [
       "<div>\n",
       "<style scoped>\n",
       "    .dataframe tbody tr th:only-of-type {\n",
       "        vertical-align: middle;\n",
       "    }\n",
       "\n",
       "    .dataframe tbody tr th {\n",
       "        vertical-align: top;\n",
       "    }\n",
       "\n",
       "    .dataframe thead th {\n",
       "        text-align: right;\n",
       "    }\n",
       "</style>\n",
       "<table border=\"1\" class=\"dataframe\">\n",
       "  <thead>\n",
       "    <tr style=\"text-align: right;\">\n",
       "      <th></th>\n",
       "      <th>user_id</th>\n",
       "      <th>pos_item_id</th>\n",
       "      <th>neg_item_id</th>\n",
       "      <th>item_seq</th>\n",
       "      <th>pos_item_text_embedding</th>\n",
       "      <th>neg_item_text_embedding</th>\n",
       "      <th>user_text_embedding</th>\n",
       "      <th>user_cum_text_embedding</th>\n",
       "      <th>pos_item_bpr_embedding</th>\n",
       "      <th>neg_item_bpr_embedding</th>\n",
       "      <th>user_bpr_embedding</th>\n",
       "      <th>pos_item_graph_embedding</th>\n",
       "      <th>neg_item_graph_embedding</th>\n",
       "      <th>user_graph_embedding</th>\n",
       "      <th>item_seq_train</th>\n",
       "    </tr>\n",
       "  </thead>\n",
       "  <tbody>\n",
       "    <tr>\n",
       "      <th>0</th>\n",
       "      <td>0</td>\n",
       "      <td>6897</td>\n",
       "      <td>7001</td>\n",
       "      <td>[6897]</td>\n",
       "      <td>[0.00029639987, 0.014771659, 0.014058901, -0.0...</td>\n",
       "      <td>[-0.021708943, -0.07313048, 0.0040764194, 0.01...</td>\n",
       "      <td>[-0.022005824, -0.033391304, -0.013403211, -0....</td>\n",
       "      <td>[0.00029639987, 0.014771659, 0.014058901, -0.0...</td>\n",
       "      <td>[-0.004581114, 0.0626458, -0.02941907, -0.0164...</td>\n",
       "      <td>[0.02627153, -0.042739343, 0.0686576, 0.071189...</td>\n",
       "      <td>[-0.16485311, 0.13305487, -0.109800704, -0.159...</td>\n",
       "      <td>[-0.019909197, 0.015652379, -0.18591776, -0.19...</td>\n",
       "      <td>[-0.09981072, -0.17273627, -0.06508206, -0.185...</td>\n",
       "      <td>[-0.21868221, 0.107340455, 0.20054282, 0.15184...</td>\n",
       "      <td>[6863, 6864]</td>\n",
       "    </tr>\n",
       "    <tr>\n",
       "      <th>1</th>\n",
       "      <td>1</td>\n",
       "      <td>6920</td>\n",
       "      <td>6998</td>\n",
       "      <td>[6920]</td>\n",
       "      <td>[-0.001356997, -0.027733184, 0.010143433, -0.0...</td>\n",
       "      <td>[0.06441419, 0.036574744, 0.0004071652, -0.046...</td>\n",
       "      <td>[0.034128785, -0.054559205, 0.0015806267, -0.0...</td>\n",
       "      <td>[-0.001356997, -0.027733184, 0.010143433, -0.0...</td>\n",
       "      <td>[-0.031264078, 0.065558866, 0.002417838, -0.05...</td>\n",
       "      <td>[0.11860577, -0.10629058, 0.09773831, 0.059424...</td>\n",
       "      <td>[-0.15681404, 0.14787957, -0.14133789, -0.1282...</td>\n",
       "      <td>[0.21109915, 0.16339235, 0.031736396, -0.01513...</td>\n",
       "      <td>[-0.033010166, -0.1609984, -0.0942061, -0.1157...</td>\n",
       "      <td>[0.16515407, 0.18278724, -0.07278056, -0.06131...</td>\n",
       "      <td>[6865, 6866]</td>\n",
       "    </tr>\n",
       "    <tr>\n",
       "      <th>2</th>\n",
       "      <td>2</td>\n",
       "      <td>6937</td>\n",
       "      <td>6992</td>\n",
       "      <td>[6937]</td>\n",
       "      <td>[0.009646171, 0.015768941, 0.0102583, 0.011016...</td>\n",
       "      <td>[0.030553505, -0.08276028, 0.021069285, -0.022...</td>\n",
       "      <td>[0.017988527, -0.038172964, -0.008762296, -0.0...</td>\n",
       "      <td>[0.009646171, 0.015768941, 0.0102583, 0.011016...</td>\n",
       "      <td>[-0.048642207, 0.019007254, -0.033599593, -0.0...</td>\n",
       "      <td>[0.10899715, -0.09564237, 0.10501876, 0.085825...</td>\n",
       "      <td>[-0.12063337, 0.13376932, -0.13144864, -0.0975...</td>\n",
       "      <td>[-0.07782954, 0.19538878, 0.08653913, -0.04023...</td>\n",
       "      <td>[0.041632142, 0.070655555, -0.13588788, -0.160...</td>\n",
       "      <td>[-0.21761492, 0.1274874, 0.19495715, -0.179376...</td>\n",
       "      <td>[6867, 6868, 6869, 6870, 6871, 6872, 6873, 687...</td>\n",
       "    </tr>\n",
       "    <tr>\n",
       "      <th>3</th>\n",
       "      <td>2</td>\n",
       "      <td>6961</td>\n",
       "      <td>7043</td>\n",
       "      <td>[6937, 6961]</td>\n",
       "      <td>[0.03704412, -0.011753682, 0.0050762245, 0.021...</td>\n",
       "      <td>[-0.007348519, -0.056608632, -0.011322977, 0.0...</td>\n",
       "      <td>[0.017988527, -0.038172964, -0.008762296, -0.0...</td>\n",
       "      <td>[0.023345144, 0.0020076297, 0.007667262, 0.016...</td>\n",
       "      <td>[-0.014944556, -0.028715644, 0.0095228795, 0.0...</td>\n",
       "      <td>[0.120994814, -0.089827366, 0.10192869, 0.0929...</td>\n",
       "      <td>[-0.12063337, 0.13376932, -0.13144864, -0.0975...</td>\n",
       "      <td>[0.16374268, -0.07315293, 0.10547099, 0.158405...</td>\n",
       "      <td>[0.03657927, -0.060817167, -0.195846, -0.21245...</td>\n",
       "      <td>[-0.21761492, 0.1274874, 0.19495715, -0.179376...</td>\n",
       "      <td>[6867, 6868, 6869, 6870, 6871, 6872, 6873, 687...</td>\n",
       "    </tr>\n",
       "    <tr>\n",
       "      <th>4</th>\n",
       "      <td>2</td>\n",
       "      <td>6895</td>\n",
       "      <td>7040</td>\n",
       "      <td>[6937, 6961, 6895]</td>\n",
       "      <td>[-0.031121682, -0.08368267, 8.339915e-05, 0.06...</td>\n",
       "      <td>[-0.004670808, -0.05079265, 0.0073155914, -0.0...</td>\n",
       "      <td>[0.017988527, -0.038172964, -0.008762296, -0.0...</td>\n",
       "      <td>[0.0051895357, -0.026555805, 0.0051393076, 0.0...</td>\n",
       "      <td>[-0.073091574, 0.10878877, -0.07272676, -0.079...</td>\n",
       "      <td>[0.09851998, -0.10024271, 0.09955378, 0.079989...</td>\n",
       "      <td>[-0.12063337, 0.13376932, -0.13144864, -0.0975...</td>\n",
       "      <td>[0.18731615, 0.13930675, 0.13596186, 0.1819212...</td>\n",
       "      <td>[-0.022520965, 0.16019231, -0.16499598, -0.088...</td>\n",
       "      <td>[-0.21761492, 0.1274874, 0.19495715, -0.179376...</td>\n",
       "      <td>[6867, 6868, 6869, 6870, 6871, 6872, 6873, 687...</td>\n",
       "    </tr>\n",
       "  </tbody>\n",
       "</table>\n",
       "</div>"
      ],
      "text/plain": [
       "   user_id  pos_item_id  neg_item_id            item_seq  \\\n",
       "0        0         6897         7001              [6897]   \n",
       "1        1         6920         6998              [6920]   \n",
       "2        2         6937         6992              [6937]   \n",
       "3        2         6961         7043        [6937, 6961]   \n",
       "4        2         6895         7040  [6937, 6961, 6895]   \n",
       "\n",
       "                             pos_item_text_embedding  \\\n",
       "0  [0.00029639987, 0.014771659, 0.014058901, -0.0...   \n",
       "1  [-0.001356997, -0.027733184, 0.010143433, -0.0...   \n",
       "2  [0.009646171, 0.015768941, 0.0102583, 0.011016...   \n",
       "3  [0.03704412, -0.011753682, 0.0050762245, 0.021...   \n",
       "4  [-0.031121682, -0.08368267, 8.339915e-05, 0.06...   \n",
       "\n",
       "                             neg_item_text_embedding  \\\n",
       "0  [-0.021708943, -0.07313048, 0.0040764194, 0.01...   \n",
       "1  [0.06441419, 0.036574744, 0.0004071652, -0.046...   \n",
       "2  [0.030553505, -0.08276028, 0.021069285, -0.022...   \n",
       "3  [-0.007348519, -0.056608632, -0.011322977, 0.0...   \n",
       "4  [-0.004670808, -0.05079265, 0.0073155914, -0.0...   \n",
       "\n",
       "                                 user_text_embedding  \\\n",
       "0  [-0.022005824, -0.033391304, -0.013403211, -0....   \n",
       "1  [0.034128785, -0.054559205, 0.0015806267, -0.0...   \n",
       "2  [0.017988527, -0.038172964, -0.008762296, -0.0...   \n",
       "3  [0.017988527, -0.038172964, -0.008762296, -0.0...   \n",
       "4  [0.017988527, -0.038172964, -0.008762296, -0.0...   \n",
       "\n",
       "                             user_cum_text_embedding  \\\n",
       "0  [0.00029639987, 0.014771659, 0.014058901, -0.0...   \n",
       "1  [-0.001356997, -0.027733184, 0.010143433, -0.0...   \n",
       "2  [0.009646171, 0.015768941, 0.0102583, 0.011016...   \n",
       "3  [0.023345144, 0.0020076297, 0.007667262, 0.016...   \n",
       "4  [0.0051895357, -0.026555805, 0.0051393076, 0.0...   \n",
       "\n",
       "                              pos_item_bpr_embedding  \\\n",
       "0  [-0.004581114, 0.0626458, -0.02941907, -0.0164...   \n",
       "1  [-0.031264078, 0.065558866, 0.002417838, -0.05...   \n",
       "2  [-0.048642207, 0.019007254, -0.033599593, -0.0...   \n",
       "3  [-0.014944556, -0.028715644, 0.0095228795, 0.0...   \n",
       "4  [-0.073091574, 0.10878877, -0.07272676, -0.079...   \n",
       "\n",
       "                              neg_item_bpr_embedding  \\\n",
       "0  [0.02627153, -0.042739343, 0.0686576, 0.071189...   \n",
       "1  [0.11860577, -0.10629058, 0.09773831, 0.059424...   \n",
       "2  [0.10899715, -0.09564237, 0.10501876, 0.085825...   \n",
       "3  [0.120994814, -0.089827366, 0.10192869, 0.0929...   \n",
       "4  [0.09851998, -0.10024271, 0.09955378, 0.079989...   \n",
       "\n",
       "                                  user_bpr_embedding  \\\n",
       "0  [-0.16485311, 0.13305487, -0.109800704, -0.159...   \n",
       "1  [-0.15681404, 0.14787957, -0.14133789, -0.1282...   \n",
       "2  [-0.12063337, 0.13376932, -0.13144864, -0.0975...   \n",
       "3  [-0.12063337, 0.13376932, -0.13144864, -0.0975...   \n",
       "4  [-0.12063337, 0.13376932, -0.13144864, -0.0975...   \n",
       "\n",
       "                            pos_item_graph_embedding  \\\n",
       "0  [-0.019909197, 0.015652379, -0.18591776, -0.19...   \n",
       "1  [0.21109915, 0.16339235, 0.031736396, -0.01513...   \n",
       "2  [-0.07782954, 0.19538878, 0.08653913, -0.04023...   \n",
       "3  [0.16374268, -0.07315293, 0.10547099, 0.158405...   \n",
       "4  [0.18731615, 0.13930675, 0.13596186, 0.1819212...   \n",
       "\n",
       "                            neg_item_graph_embedding  \\\n",
       "0  [-0.09981072, -0.17273627, -0.06508206, -0.185...   \n",
       "1  [-0.033010166, -0.1609984, -0.0942061, -0.1157...   \n",
       "2  [0.041632142, 0.070655555, -0.13588788, -0.160...   \n",
       "3  [0.03657927, -0.060817167, -0.195846, -0.21245...   \n",
       "4  [-0.022520965, 0.16019231, -0.16499598, -0.088...   \n",
       "\n",
       "                                user_graph_embedding  \\\n",
       "0  [-0.21868221, 0.107340455, 0.20054282, 0.15184...   \n",
       "1  [0.16515407, 0.18278724, -0.07278056, -0.06131...   \n",
       "2  [-0.21761492, 0.1274874, 0.19495715, -0.179376...   \n",
       "3  [-0.21761492, 0.1274874, 0.19495715, -0.179376...   \n",
       "4  [-0.21761492, 0.1274874, 0.19495715, -0.179376...   \n",
       "\n",
       "                                      item_seq_train  \n",
       "0                                       [6863, 6864]  \n",
       "1                                       [6865, 6866]  \n",
       "2  [6867, 6868, 6869, 6870, 6871, 6872, 6873, 687...  \n",
       "3  [6867, 6868, 6869, 6870, 6871, 6872, 6873, 687...  \n",
       "4  [6867, 6868, 6869, 6870, 6871, 6872, 6873, 687...  "
      ]
     },
     "execution_count": 31,
     "metadata": {},
     "output_type": "execute_result"
    }
   ],
   "source": [
    "df.head()"
   ]
  },
  {
   "cell_type": "code",
   "execution_count": null,
   "id": "2d4e1fdc-289d-4468-a022-024099743dec",
   "metadata": {},
   "outputs": [],
   "source": []
  }
 ],
 "metadata": {
  "kernelspec": {
   "display_name": "Python 3 (ipykernel)",
   "language": "python",
   "name": "python3"
  },
  "language_info": {
   "codemirror_mode": {
    "name": "ipython",
    "version": 3
   },
   "file_extension": ".py",
   "mimetype": "text/x-python",
   "name": "python",
   "nbconvert_exporter": "python",
   "pygments_lexer": "ipython3",
   "version": "3.10.12"
  }
 },
 "nbformat": 4,
 "nbformat_minor": 5
}
