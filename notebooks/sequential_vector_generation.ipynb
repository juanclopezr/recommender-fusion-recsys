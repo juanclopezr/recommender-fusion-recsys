{
 "cells": [
  {
   "cell_type": "code",
   "execution_count": 19,
   "id": "bb3c7c6c",
   "metadata": {},
   "outputs": [],
   "source": [
    "import pickle as pkl\n",
    "import numpy as np\n",
    "import os\n",
    "import torch\n",
    "\n",
    "\n",
    "\n",
    "os.chdir('/home/jcsanguino10/local_citation_model/recommender-fusion-recsys/loaders')\n",
    "from create_dataloader_sequential import (load_course_encoder)\n",
    "\n",
    "os.chdir('/home/jcsanguino10/local_citation_model/recommender-fusion-recsys/architectures/Sequence')\n",
    "from sec_transformer_pytorch import (create_model, load_pytorch_weights)\n",
    "\n",
    "os.chdir('/home/jcsanguino10/local_citation_model/recommender-fusion-recsys/architectures/Multimodal')\n",
    "from multimodal import Autoencoder, MultimodalModel"
   ]
  },
  {
   "cell_type": "code",
   "execution_count": 20,
   "id": "caddf8e0",
   "metadata": {},
   "outputs": [
    {
     "name": "stdout",
     "output_type": "stream",
     "text": [
      "0\n"
     ]
    }
   ],
   "source": [
    "if torch.cuda.is_available():\n",
    "    # Change to just a particular GPU changing the enviroment variable\n",
    "    os.environ[\"CUDA_VISIBLE_DEVICES\"] = \"3\"\n",
    "    device = torch.device(\"cuda\")\n",
    "    # Change to just use a particular GPU via torch\n",
    "    #torch.cuda.set_device(\"cuda:3\")\n",
    "    print(torch.cuda.current_device())"
   ]
  },
  {
   "cell_type": "code",
   "execution_count": 21,
   "id": "5c9edd0b",
   "metadata": {},
   "outputs": [],
   "source": [
    "# Paths from the label encoder dicts \n",
    "\n",
    "PATH_TO_LABEL_ENCODER = '/home/jcsanguino10/local_citation_model/data/processed/'\n",
    "\n",
    "# Path to folder with datasets\n",
    "\n",
    "PATH_TO_DATASETS = '/home/jcsanguino10/local_citation_model/data/'\n",
    "\n",
    "# Path to folder with checkpoints best models\n",
    "\n",
    "PATH_TO_CHECKPOINTS = '/home/jcsanguino10/local_citation_model/models/'"
   ]
  },
  {
   "cell_type": "code",
   "execution_count": 22,
   "id": "44862572",
   "metadata": {},
   "outputs": [
    {
     "name": "stdout",
     "output_type": "stream",
     "text": [
      "Loading existing mappings from /home/jcsanguino10/local_citation_model/data/processed\n"
     ]
    }
   ],
   "source": [
    "label_encoder, dicts = load_course_encoder('/home', PATH_TO_LABEL_ENCODER)"
   ]
  },
  {
   "cell_type": "code",
   "execution_count": 23,
   "id": "da2c5f53",
   "metadata": {},
   "outputs": [
    {
     "data": {
      "text/plain": [
       "197"
      ]
     },
     "execution_count": 23,
     "metadata": {},
     "output_type": "execute_result"
    }
   ],
   "source": [
    "len(label_encoder.classes_)  # List of all course IDs in the dataset"
   ]
  },
  {
   "cell_type": "code",
   "execution_count": null,
   "id": "177798f1",
   "metadata": {},
   "outputs": [],
   "source": [
    "import pandas as pd\n",
    "#Change for train sufix or test sufix \n",
    "df_binary = pd.read_pickle(f'{PATH_TO_DATASETS}test_binary_all_vectors_128_01_transe.pkl')\n",
    "df_bpr_df = pd.read_pickle(f'{PATH_TO_DATASETS}test_bpr_all_vectors_128_01_transe.pkl')"
   ]
  },
  {
   "cell_type": "code",
   "execution_count": 25,
   "id": "23de014c",
   "metadata": {},
   "outputs": [
    {
     "data": {
      "text/html": [
       "<div>\n",
       "<style scoped>\n",
       "    .dataframe tbody tr th:only-of-type {\n",
       "        vertical-align: middle;\n",
       "    }\n",
       "\n",
       "    .dataframe tbody tr th {\n",
       "        vertical-align: top;\n",
       "    }\n",
       "\n",
       "    .dataframe thead th {\n",
       "        text-align: right;\n",
       "    }\n",
       "</style>\n",
       "<table border=\"1\" class=\"dataframe\">\n",
       "  <thead>\n",
       "    <tr style=\"text-align: right;\">\n",
       "      <th></th>\n",
       "      <th>user_id</th>\n",
       "      <th>pos_item_id</th>\n",
       "      <th>neg_item_id</th>\n",
       "      <th>item_seq</th>\n",
       "      <th>pos_item_text_embedding</th>\n",
       "      <th>neg_item_text_embedding</th>\n",
       "      <th>user_text_embedding</th>\n",
       "      <th>user_cum_text_embedding</th>\n",
       "      <th>pos_item_bpr_embedding</th>\n",
       "      <th>neg_item_bpr_embedding</th>\n",
       "      <th>user_bpr_embedding</th>\n",
       "      <th>pos_item_graph_embedding</th>\n",
       "      <th>neg_item_graph_embedding</th>\n",
       "      <th>user_graph_embedding</th>\n",
       "    </tr>\n",
       "  </thead>\n",
       "  <tbody>\n",
       "    <tr>\n",
       "      <th>0</th>\n",
       "      <td>0</td>\n",
       "      <td>6897</td>\n",
       "      <td>7001</td>\n",
       "      <td>[6897]</td>\n",
       "      <td>[0.00029639987, 0.014771659, 0.014058901, -0.0...</td>\n",
       "      <td>[-0.021708943, -0.07313048, 0.0040764194, 0.01...</td>\n",
       "      <td>[-0.022005824, -0.033391304, -0.013403211, -0....</td>\n",
       "      <td>[0.00029639987, 0.014771659, 0.014058901, -0.0...</td>\n",
       "      <td>[-0.004581114, 0.0626458, -0.02941907, -0.0164...</td>\n",
       "      <td>[0.02627153, -0.042739343, 0.0686576, 0.071189...</td>\n",
       "      <td>[-0.16485311, 0.13305487, -0.109800704, -0.159...</td>\n",
       "      <td>[-0.019909197, 0.015652379, -0.18591776, -0.19...</td>\n",
       "      <td>[-0.09981072, -0.17273627, -0.06508206, -0.185...</td>\n",
       "      <td>[-0.21868221, 0.107340455, 0.20054282, 0.15184...</td>\n",
       "    </tr>\n",
       "    <tr>\n",
       "      <th>1</th>\n",
       "      <td>1</td>\n",
       "      <td>6920</td>\n",
       "      <td>6998</td>\n",
       "      <td>[6920]</td>\n",
       "      <td>[-0.001356997, -0.027733184, 0.010143433, -0.0...</td>\n",
       "      <td>[0.06441419, 0.036574744, 0.0004071652, -0.046...</td>\n",
       "      <td>[0.034128785, -0.054559205, 0.0015806267, -0.0...</td>\n",
       "      <td>[-0.001356997, -0.027733184, 0.010143433, -0.0...</td>\n",
       "      <td>[-0.031264078, 0.065558866, 0.002417838, -0.05...</td>\n",
       "      <td>[0.11860577, -0.10629058, 0.09773831, 0.059424...</td>\n",
       "      <td>[-0.15681404, 0.14787957, -0.14133789, -0.1282...</td>\n",
       "      <td>[0.21109915, 0.16339235, 0.031736396, -0.01513...</td>\n",
       "      <td>[-0.033010166, -0.1609984, -0.0942061, -0.1157...</td>\n",
       "      <td>[0.16515407, 0.18278724, -0.07278056, -0.06131...</td>\n",
       "    </tr>\n",
       "    <tr>\n",
       "      <th>2</th>\n",
       "      <td>2</td>\n",
       "      <td>6937</td>\n",
       "      <td>6992</td>\n",
       "      <td>[6937]</td>\n",
       "      <td>[0.009646171, 0.015768941, 0.0102583, 0.011016...</td>\n",
       "      <td>[0.030553505, -0.08276028, 0.021069285, -0.022...</td>\n",
       "      <td>[0.017988527, -0.038172964, -0.008762296, -0.0...</td>\n",
       "      <td>[0.009646171, 0.015768941, 0.0102583, 0.011016...</td>\n",
       "      <td>[-0.048642207, 0.019007254, -0.033599593, -0.0...</td>\n",
       "      <td>[0.10899715, -0.09564237, 0.10501876, 0.085825...</td>\n",
       "      <td>[-0.12063337, 0.13376932, -0.13144864, -0.0975...</td>\n",
       "      <td>[-0.07782954, 0.19538878, 0.08653913, -0.04023...</td>\n",
       "      <td>[0.041632142, 0.070655555, -0.13588788, -0.160...</td>\n",
       "      <td>[-0.21761492, 0.1274874, 0.19495715, -0.179376...</td>\n",
       "    </tr>\n",
       "    <tr>\n",
       "      <th>3</th>\n",
       "      <td>2</td>\n",
       "      <td>6961</td>\n",
       "      <td>7043</td>\n",
       "      <td>[6937, 6961]</td>\n",
       "      <td>[0.03704412, -0.011753682, 0.0050762245, 0.021...</td>\n",
       "      <td>[-0.007348519, -0.056608632, -0.011322977, 0.0...</td>\n",
       "      <td>[0.017988527, -0.038172964, -0.008762296, -0.0...</td>\n",
       "      <td>[0.023345144, 0.0020076297, 0.007667262, 0.016...</td>\n",
       "      <td>[-0.014944556, -0.028715644, 0.0095228795, 0.0...</td>\n",
       "      <td>[0.120994814, -0.089827366, 0.10192869, 0.0929...</td>\n",
       "      <td>[-0.12063337, 0.13376932, -0.13144864, -0.0975...</td>\n",
       "      <td>[0.16374268, -0.07315293, 0.10547099, 0.158405...</td>\n",
       "      <td>[0.03657927, -0.060817167, -0.195846, -0.21245...</td>\n",
       "      <td>[-0.21761492, 0.1274874, 0.19495715, -0.179376...</td>\n",
       "    </tr>\n",
       "    <tr>\n",
       "      <th>4</th>\n",
       "      <td>2</td>\n",
       "      <td>6895</td>\n",
       "      <td>7040</td>\n",
       "      <td>[6937, 6961, 6895]</td>\n",
       "      <td>[-0.031121682, -0.08368267, 8.339915e-05, 0.06...</td>\n",
       "      <td>[-0.004670808, -0.05079265, 0.0073155914, -0.0...</td>\n",
       "      <td>[0.017988527, -0.038172964, -0.008762296, -0.0...</td>\n",
       "      <td>[0.0051895357, -0.026555805, 0.0051393076, 0.0...</td>\n",
       "      <td>[-0.073091574, 0.10878877, -0.07272676, -0.079...</td>\n",
       "      <td>[0.09851998, -0.10024271, 0.09955378, 0.079989...</td>\n",
       "      <td>[-0.12063337, 0.13376932, -0.13144864, -0.0975...</td>\n",
       "      <td>[0.18731615, 0.13930675, 0.13596186, 0.1819212...</td>\n",
       "      <td>[-0.022520965, 0.16019231, -0.16499598, -0.088...</td>\n",
       "      <td>[-0.21761492, 0.1274874, 0.19495715, -0.179376...</td>\n",
       "    </tr>\n",
       "  </tbody>\n",
       "</table>\n",
       "</div>"
      ],
      "text/plain": [
       "   user_id  pos_item_id  neg_item_id            item_seq  \\\n",
       "0        0         6897         7001              [6897]   \n",
       "1        1         6920         6998              [6920]   \n",
       "2        2         6937         6992              [6937]   \n",
       "3        2         6961         7043        [6937, 6961]   \n",
       "4        2         6895         7040  [6937, 6961, 6895]   \n",
       "\n",
       "                             pos_item_text_embedding  \\\n",
       "0  [0.00029639987, 0.014771659, 0.014058901, -0.0...   \n",
       "1  [-0.001356997, -0.027733184, 0.010143433, -0.0...   \n",
       "2  [0.009646171, 0.015768941, 0.0102583, 0.011016...   \n",
       "3  [0.03704412, -0.011753682, 0.0050762245, 0.021...   \n",
       "4  [-0.031121682, -0.08368267, 8.339915e-05, 0.06...   \n",
       "\n",
       "                             neg_item_text_embedding  \\\n",
       "0  [-0.021708943, -0.07313048, 0.0040764194, 0.01...   \n",
       "1  [0.06441419, 0.036574744, 0.0004071652, -0.046...   \n",
       "2  [0.030553505, -0.08276028, 0.021069285, -0.022...   \n",
       "3  [-0.007348519, -0.056608632, -0.011322977, 0.0...   \n",
       "4  [-0.004670808, -0.05079265, 0.0073155914, -0.0...   \n",
       "\n",
       "                                 user_text_embedding  \\\n",
       "0  [-0.022005824, -0.033391304, -0.013403211, -0....   \n",
       "1  [0.034128785, -0.054559205, 0.0015806267, -0.0...   \n",
       "2  [0.017988527, -0.038172964, -0.008762296, -0.0...   \n",
       "3  [0.017988527, -0.038172964, -0.008762296, -0.0...   \n",
       "4  [0.017988527, -0.038172964, -0.008762296, -0.0...   \n",
       "\n",
       "                             user_cum_text_embedding  \\\n",
       "0  [0.00029639987, 0.014771659, 0.014058901, -0.0...   \n",
       "1  [-0.001356997, -0.027733184, 0.010143433, -0.0...   \n",
       "2  [0.009646171, 0.015768941, 0.0102583, 0.011016...   \n",
       "3  [0.023345144, 0.0020076297, 0.007667262, 0.016...   \n",
       "4  [0.0051895357, -0.026555805, 0.0051393076, 0.0...   \n",
       "\n",
       "                              pos_item_bpr_embedding  \\\n",
       "0  [-0.004581114, 0.0626458, -0.02941907, -0.0164...   \n",
       "1  [-0.031264078, 0.065558866, 0.002417838, -0.05...   \n",
       "2  [-0.048642207, 0.019007254, -0.033599593, -0.0...   \n",
       "3  [-0.014944556, -0.028715644, 0.0095228795, 0.0...   \n",
       "4  [-0.073091574, 0.10878877, -0.07272676, -0.079...   \n",
       "\n",
       "                              neg_item_bpr_embedding  \\\n",
       "0  [0.02627153, -0.042739343, 0.0686576, 0.071189...   \n",
       "1  [0.11860577, -0.10629058, 0.09773831, 0.059424...   \n",
       "2  [0.10899715, -0.09564237, 0.10501876, 0.085825...   \n",
       "3  [0.120994814, -0.089827366, 0.10192869, 0.0929...   \n",
       "4  [0.09851998, -0.10024271, 0.09955378, 0.079989...   \n",
       "\n",
       "                                  user_bpr_embedding  \\\n",
       "0  [-0.16485311, 0.13305487, -0.109800704, -0.159...   \n",
       "1  [-0.15681404, 0.14787957, -0.14133789, -0.1282...   \n",
       "2  [-0.12063337, 0.13376932, -0.13144864, -0.0975...   \n",
       "3  [-0.12063337, 0.13376932, -0.13144864, -0.0975...   \n",
       "4  [-0.12063337, 0.13376932, -0.13144864, -0.0975...   \n",
       "\n",
       "                            pos_item_graph_embedding  \\\n",
       "0  [-0.019909197, 0.015652379, -0.18591776, -0.19...   \n",
       "1  [0.21109915, 0.16339235, 0.031736396, -0.01513...   \n",
       "2  [-0.07782954, 0.19538878, 0.08653913, -0.04023...   \n",
       "3  [0.16374268, -0.07315293, 0.10547099, 0.158405...   \n",
       "4  [0.18731615, 0.13930675, 0.13596186, 0.1819212...   \n",
       "\n",
       "                            neg_item_graph_embedding  \\\n",
       "0  [-0.09981072, -0.17273627, -0.06508206, -0.185...   \n",
       "1  [-0.033010166, -0.1609984, -0.0942061, -0.1157...   \n",
       "2  [0.041632142, 0.070655555, -0.13588788, -0.160...   \n",
       "3  [0.03657927, -0.060817167, -0.195846, -0.21245...   \n",
       "4  [-0.022520965, 0.16019231, -0.16499598, -0.088...   \n",
       "\n",
       "                                user_graph_embedding  \n",
       "0  [-0.21868221, 0.107340455, 0.20054282, 0.15184...  \n",
       "1  [0.16515407, 0.18278724, -0.07278056, -0.06131...  \n",
       "2  [-0.21761492, 0.1274874, 0.19495715, -0.179376...  \n",
       "3  [-0.21761492, 0.1274874, 0.19495715, -0.179376...  \n",
       "4  [-0.21761492, 0.1274874, 0.19495715, -0.179376...  "
      ]
     },
     "execution_count": 25,
     "metadata": {},
     "output_type": "execute_result"
    }
   ],
   "source": [
    "df_bpr_df.head()"
   ]
  },
  {
   "cell_type": "code",
   "execution_count": 26,
   "id": "25032437",
   "metadata": {},
   "outputs": [],
   "source": [
    "# Create a new column that contains per each user the most longer sequence of courses taken for the user and add in each row the same sequence\n",
    "def add_longest_sequence_column(df, user_col, seq_col, new_col):\n",
    "    longest_seqs = df.groupby(user_col)[seq_col].apply(lambda x: max(x, key=len)).to_dict()\n",
    "    df[new_col] = df[user_col].map(longest_seqs)\n",
    "    return df\n",
    "\n",
    "df_bpr_df = add_longest_sequence_column(df_bpr_df, 'user_id', 'item_seq', 'full_item_seq')\n",
    "df_binary = add_longest_sequence_column(df_binary, 'user_id', 'item_seq', 'full_item_seq')"
   ]
  },
  {
   "cell_type": "code",
   "execution_count": 27,
   "id": "82384520",
   "metadata": {},
   "outputs": [
    {
     "data": {
      "text/plain": [
       "dict_keys(['filtered_id2entity', 'entity2newid', 'newid2entity', 'newid2oldid'])"
      ]
     },
     "execution_count": 27,
     "metadata": {},
     "output_type": "execute_result"
    }
   ],
   "source": [
    "dicts.keys()"
   ]
  },
  {
   "cell_type": "code",
   "execution_count": 28,
   "id": "e48a977a",
   "metadata": {},
   "outputs": [],
   "source": [
    "## Transform values to keys and viceversa to create a mapping from old course IDs to new course IDs using dicts[\"newid2oldid\"]\n",
    "newid2oldid = dicts[\"newid2oldid\"]\n",
    "oldid2newid = {v: k for k, v in newid2oldid.items()}    "
   ]
  },
  {
   "cell_type": "code",
   "execution_count": 29,
   "id": "57e5e19c",
   "metadata": {},
   "outputs": [],
   "source": [
    "def parse_column_with_mapping(df, column_name, mapping, new_column_name=None):\n",
    "    \"\"\"\n",
    "    Parses the elements in a specified column of a DataFrame using a mapping dictionary\n",
    "    and optionally saves the results in a new column.\n",
    "\n",
    "    Args:\n",
    "        df (pd.DataFrame): The DataFrame containing the column to parse.\n",
    "        column_name (str): The name of the column to parse.\n",
    "        mapping (dict): A dictionary mapping old IDs to new IDs.\n",
    "        new_column_name (str, optional): The name of the new column to save the results. \n",
    "                                         If None, the original column is overwritten.\n",
    "\n",
    "    Returns:\n",
    "        pd.DataFrame: A DataFrame with the specified column parsed using the mapping.\n",
    "    \"\"\"\n",
    "    parsed_column = df[column_name].apply(lambda x: [mapping.get(item, item) for item in x])\n",
    "    if new_column_name:\n",
    "        df[new_column_name] = parsed_column\n",
    "    else:\n",
    "        df[column_name] = parsed_column\n",
    "    return df"
   ]
  },
  {
   "cell_type": "code",
   "execution_count": 30,
   "id": "27119b18",
   "metadata": {},
   "outputs": [],
   "source": [
    "df_bpr_df = parse_column_with_mapping(df_bpr_df, 'full_item_seq', oldid2newid, new_column_name='parsed_item_seq')\n",
    "df_binary = parse_column_with_mapping(df_binary, 'full_item_seq', oldid2newid, new_column_name='parsed_item_seq')\n"
   ]
  },
  {
   "cell_type": "code",
   "execution_count": 31,
   "id": "aac917cb",
   "metadata": {},
   "outputs": [],
   "source": [
    "model = create_model(len(label_encoder.classes_) + 1, embedding_dim=128, \n",
    "                         num_heads=2, ff_dim=512, num_transformer_blocks=3, dropout_rate=0.1, padding_idx=len(label_encoder.classes_))"
   ]
  },
  {
   "cell_type": "code",
   "execution_count": 32,
   "id": "0e4a4bdc",
   "metadata": {},
   "outputs": [
    {
     "name": "stdout",
     "output_type": "stream",
     "text": [
      "PyTorch model weights loaded from /home/jcsanguino10/local_citation_model/models/SEQUENTIAL_AUGMENT_2h_3b_best.pth\n"
     ]
    }
   ],
   "source": [
    "model = load_pytorch_weights(model, f'{PATH_TO_CHECKPOINTS}SEQUENTIAL_AUGMENT_2h_3b_best.pth')"
   ]
  },
  {
   "cell_type": "code",
   "execution_count": 33,
   "id": "9d0c72b3",
   "metadata": {},
   "outputs": [],
   "source": [
    "## Create a function that take the sequence of course IDs from a column in a dataframe and generate a new column with the sequence vector using the trained model\n",
    "def add_sequence_vectors(df, sequence_column, model, device):\n",
    "    ## Add tqdm for progress bar\n",
    "    from tqdm import tqdm\n",
    "    tqdm.pandas()\n",
    "    df['user_sequence_embedding'] = df[sequence_column].progress_apply(lambda x: generate_sequence_vector(model, x, device))\n",
    "    return df\n",
    "def generate_sequence_vector(model, course_sequence, device):\n",
    "    model.eval()\n",
    "    with torch.no_grad():\n",
    "        # Convert course_sequence to tensor and add batch dimension\n",
    "        input_tensor = torch.tensor(course_sequence, dtype=torch.long).unsqueeze(0).to(device)\n",
    "        # Get the model output\n",
    "        output = model(input_tensor)\n",
    "        # Convert output to numpy array and remove batch dimension\n",
    "        sequence_vector = output.squeeze(0).cpu().numpy()\n",
    "    return sequence_vector"
   ]
  },
  {
   "cell_type": "code",
   "execution_count": 34,
   "id": "c263c7e6",
   "metadata": {},
   "outputs": [
    {
     "name": "stderr",
     "output_type": "stream",
     "text": [
      "100%|██████████| 11924/11924 [00:27<00:00, 433.17it/s]\n"
     ]
    }
   ],
   "source": [
    "df_bpr_df = add_sequence_vectors(df_bpr_df, 'parsed_item_seq', model, 'cuda')"
   ]
  },
  {
   "cell_type": "code",
   "execution_count": 35,
   "id": "abd9265e",
   "metadata": {},
   "outputs": [
    {
     "name": "stderr",
     "output_type": "stream",
     "text": [
      "100%|██████████| 23848/23848 [00:54<00:00, 437.03it/s]\n"
     ]
    }
   ],
   "source": [
    "df_binary = add_sequence_vectors(df_binary, 'parsed_item_seq', model, 'cuda')"
   ]
  },
  {
   "cell_type": "code",
   "execution_count": 36,
   "id": "d172d0fb",
   "metadata": {},
   "outputs": [],
   "source": [
    "## save the dataframes with the new column with the sequence vectors\n",
    "#Change for train sufix or test sufix \n",
    "df_bpr_df.to_pickle(f'{PATH_TO_DATASETS}test_bpr_all_vectors_128_01_transe_seqvec.pkl')\n",
    "df_binary.to_pickle(f'{PATH_TO_DATASETS}test_binary_all_vectors_128_01_transe_seqvec.pkl')"
   ]
  }
 ],
 "metadata": {
  "kernelspec": {
   "display_name": "local_citation_env",
   "language": "python",
   "name": "python3"
  },
  "language_info": {
   "codemirror_mode": {
    "name": "ipython",
    "version": 3
   },
   "file_extension": ".py",
   "mimetype": "text/x-python",
   "name": "python",
   "nbconvert_exporter": "python",
   "pygments_lexer": "ipython3",
   "version": "3.10.12"
  }
 },
 "nbformat": 4,
 "nbformat_minor": 5
}
