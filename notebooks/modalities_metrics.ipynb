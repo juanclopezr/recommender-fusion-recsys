{
 "cells": [
  {
   "cell_type": "code",
   "execution_count": 1,
   "id": "1ee680ec-8bff-43ae-ac0b-7fd2baf29592",
   "metadata": {},
   "outputs": [],
   "source": [
    "%load_ext autoreload\n",
    "%autoreload 2\n",
    "\n",
    "import sys\n",
    "from pathlib import Path\n",
    "import pandas as pd\n",
    "import pickle as pkl\n",
    "\n",
    "sys.path.append('..')\n",
    "from recommenders.matrix_based.recommenders import recommend_bpr_user_index, recommend_transe_user_index, recommend_rotate_user_index\n",
    "import numpy as np\n",
    "from evaluation_metrics import ndcg, calculate_precision_at_k, calculate_mrr, calculate_custom_precision_at_k, calculate_average_ndcg_at_k, calculate_average_precision_at_k, calculate_average_mrr, calculate_average_custom_precision_at_k"
   ]
  },
  {
   "cell_type": "code",
   "execution_count": 2,
   "id": "6d53b041-55f5-4141-8bd8-c68a10a62858",
   "metadata": {},
   "outputs": [],
   "source": [
    "base_data_path = Path('../../datasets/GCF')\n",
    "n_users = 6863"
   ]
  },
  {
   "cell_type": "code",
   "execution_count": 3,
   "id": "38d42902-a824-4d90-89a4-bc16127d483f",
   "metadata": {},
   "outputs": [],
   "source": [
    "test_df = pd.read_feather(base_data_path / 'test.feather')"
   ]
  },
  {
   "cell_type": "code",
   "execution_count": 4,
   "id": "85a48c14-d264-4e4d-a343-6676092b5455",
   "metadata": {},
   "outputs": [
    {
     "data": {
      "text/html": [
       "<div>\n",
       "<style scoped>\n",
       "    .dataframe tbody tr th:only-of-type {\n",
       "        vertical-align: middle;\n",
       "    }\n",
       "\n",
       "    .dataframe tbody tr th {\n",
       "        vertical-align: top;\n",
       "    }\n",
       "\n",
       "    .dataframe thead th {\n",
       "        text-align: right;\n",
       "    }\n",
       "</style>\n",
       "<table border=\"1\" class=\"dataframe\">\n",
       "  <thead>\n",
       "    <tr style=\"text-align: right;\">\n",
       "      <th></th>\n",
       "      <th>user_id</th>\n",
       "      <th>item_id</th>\n",
       "      <th>rating</th>\n",
       "    </tr>\n",
       "  </thead>\n",
       "  <tbody>\n",
       "    <tr>\n",
       "      <th>0</th>\n",
       "      <td>7273650.1611911592</td>\n",
       "      <td>powerpoint2013</td>\n",
       "      <td>1</td>\n",
       "    </tr>\n",
       "    <tr>\n",
       "      <th>1</th>\n",
       "      <td>38700632.1611912502</td>\n",
       "      <td>wordxp</td>\n",
       "      <td>1</td>\n",
       "    </tr>\n",
       "    <tr>\n",
       "      <th>2</th>\n",
       "      <td>23529408.1611761639</td>\n",
       "      <td>googlespreadsheets</td>\n",
       "      <td>1</td>\n",
       "    </tr>\n",
       "    <tr>\n",
       "      <th>3</th>\n",
       "      <td>23529408.1611761639</td>\n",
       "      <td>googleaccount</td>\n",
       "      <td>1</td>\n",
       "    </tr>\n",
       "    <tr>\n",
       "      <th>4</th>\n",
       "      <td>23529408.1611761639</td>\n",
       "      <td>powerpoint2016</td>\n",
       "      <td>1</td>\n",
       "    </tr>\n",
       "  </tbody>\n",
       "</table>\n",
       "</div>"
      ],
      "text/plain": [
       "               user_id             item_id  rating\n",
       "0   7273650.1611911592      powerpoint2013       1\n",
       "1  38700632.1611912502              wordxp       1\n",
       "2  23529408.1611761639  googlespreadsheets       1\n",
       "3  23529408.1611761639       googleaccount       1\n",
       "4  23529408.1611761639      powerpoint2016       1"
      ]
     },
     "execution_count": 4,
     "metadata": {},
     "output_type": "execute_result"
    }
   ],
   "source": [
    "test_df.head()"
   ]
  },
  {
   "cell_type": "code",
   "execution_count": 5,
   "id": "4a709b99-cfbb-4c6c-97ec-57f4d867fed7",
   "metadata": {},
   "outputs": [],
   "source": [
    "test_df_courses = test_df.groupby('user_id', as_index=False).agg(list)"
   ]
  },
  {
   "cell_type": "code",
   "execution_count": 6,
   "id": "db14657f-88d8-43fa-b19a-49eb5bc26186",
   "metadata": {},
   "outputs": [],
   "source": [
    "with open(base_data_path / 'entity2id.pkl', 'rb') as f:\n",
    "    entity2id = pkl.load(f)"
   ]
  },
  {
   "cell_type": "code",
   "execution_count": 7,
   "id": "1a9bddea-6017-4627-9f54-75669b5daac8",
   "metadata": {},
   "outputs": [],
   "source": [
    "bpr_user_matrix = np.load(base_data_path / 'embeddings/bpr_user_matrix_128.npy')\n",
    "bpr_item_matrix = np.load(base_data_path / 'embeddings/bpr_item_matrix_128.npy')"
   ]
  },
  {
   "cell_type": "code",
   "execution_count": 8,
   "id": "12a638f9-d6b9-4c5c-99eb-dc414de3c37e",
   "metadata": {},
   "outputs": [],
   "source": [
    "transe_node_embeddings = np.load(base_data_path / 'embeddings/node_embeddings_gcf_128_transe.npy')\n",
    "transe_relation_embeddings = np.load(base_data_path / 'embeddings/relation_embeddings_gcf_128_transe.npy')"
   ]
  },
  {
   "cell_type": "code",
   "execution_count": 9,
   "id": "29ca05ad-84fc-4b6c-aece-0748b762bc7d",
   "metadata": {},
   "outputs": [],
   "source": [
    "rotate_node_embeddings = np.load(base_data_path / 'embeddings/node_embeddings_gcf_128_rotate.npy')\n",
    "rotate_relation_embeddings = np.load(base_data_path / 'embeddings/relation_embeddings_gcf_128_rotate.npy')"
   ]
  },
  {
   "cell_type": "code",
   "execution_count": 10,
   "id": "bbfa263b-98c0-42c3-bac9-b8b0fca1a345",
   "metadata": {},
   "outputs": [],
   "source": [
    "test_df_courses['user_id'] = test_df_courses['user_id'].map(entity2id)"
   ]
  },
  {
   "cell_type": "code",
   "execution_count": 11,
   "id": "321e2b97",
   "metadata": {},
   "outputs": [
    {
     "data": {
      "text/html": [
       "<div>\n",
       "<style scoped>\n",
       "    .dataframe tbody tr th:only-of-type {\n",
       "        vertical-align: middle;\n",
       "    }\n",
       "\n",
       "    .dataframe tbody tr th {\n",
       "        vertical-align: top;\n",
       "    }\n",
       "\n",
       "    .dataframe thead th {\n",
       "        text-align: right;\n",
       "    }\n",
       "</style>\n",
       "<table border=\"1\" class=\"dataframe\">\n",
       "  <thead>\n",
       "    <tr style=\"text-align: right;\">\n",
       "      <th></th>\n",
       "      <th>user_id</th>\n",
       "      <th>item_id</th>\n",
       "      <th>rating</th>\n",
       "    </tr>\n",
       "  </thead>\n",
       "  <tbody>\n",
       "    <tr>\n",
       "      <th>0</th>\n",
       "      <td>3850</td>\n",
       "      <td>[mobile-device-tips, typing]</td>\n",
       "      <td>[1, 1]</td>\n",
       "    </tr>\n",
       "    <tr>\n",
       "      <th>1</th>\n",
       "      <td>4552</td>\n",
       "      <td>[computerbasics]</td>\n",
       "      <td>[1]</td>\n",
       "    </tr>\n",
       "    <tr>\n",
       "      <th>2</th>\n",
       "      <td>4022</td>\n",
       "      <td>[digital-media-literacy]</td>\n",
       "      <td>[1]</td>\n",
       "    </tr>\n",
       "    <tr>\n",
       "      <th>3</th>\n",
       "      <td>1349</td>\n",
       "      <td>[gcfteacherguides, email101]</td>\n",
       "      <td>[1, 1]</td>\n",
       "    </tr>\n",
       "    <tr>\n",
       "      <th>4</th>\n",
       "      <td>710</td>\n",
       "      <td>[googledocuments]</td>\n",
       "      <td>[1]</td>\n",
       "    </tr>\n",
       "    <tr>\n",
       "      <th>...</th>\n",
       "      <td>...</td>\n",
       "      <td>...</td>\n",
       "      <td>...</td>\n",
       "    </tr>\n",
       "    <tr>\n",
       "      <th>6858</th>\n",
       "      <td>508</td>\n",
       "      <td>[word, word2016]</td>\n",
       "      <td>[1, 1]</td>\n",
       "    </tr>\n",
       "    <tr>\n",
       "      <th>6859</th>\n",
       "      <td>5971</td>\n",
       "      <td>[buying-computers, computer-science]</td>\n",
       "      <td>[1, 1]</td>\n",
       "    </tr>\n",
       "    <tr>\n",
       "      <th>6860</th>\n",
       "      <td>5890</td>\n",
       "      <td>[excel2016]</td>\n",
       "      <td>[1]</td>\n",
       "    </tr>\n",
       "    <tr>\n",
       "      <th>6861</th>\n",
       "      <td>370</td>\n",
       "      <td>[useinformationcorrectly, internetsafetyforkids]</td>\n",
       "      <td>[1, 1]</td>\n",
       "    </tr>\n",
       "    <tr>\n",
       "      <th>6862</th>\n",
       "      <td>2858</td>\n",
       "      <td>[coverletters]</td>\n",
       "      <td>[1]</td>\n",
       "    </tr>\n",
       "  </tbody>\n",
       "</table>\n",
       "<p>6863 rows × 3 columns</p>\n",
       "</div>"
      ],
      "text/plain": [
       "      user_id                                           item_id  rating\n",
       "0        3850                      [mobile-device-tips, typing]  [1, 1]\n",
       "1        4552                                  [computerbasics]     [1]\n",
       "2        4022                          [digital-media-literacy]     [1]\n",
       "3        1349                      [gcfteacherguides, email101]  [1, 1]\n",
       "4         710                                 [googledocuments]     [1]\n",
       "...       ...                                               ...     ...\n",
       "6858      508                                  [word, word2016]  [1, 1]\n",
       "6859     5971              [buying-computers, computer-science]  [1, 1]\n",
       "6860     5890                                       [excel2016]     [1]\n",
       "6861      370  [useinformationcorrectly, internetsafetyforkids]  [1, 1]\n",
       "6862     2858                                    [coverletters]     [1]\n",
       "\n",
       "[6863 rows x 3 columns]"
      ]
     },
     "execution_count": 11,
     "metadata": {},
     "output_type": "execute_result"
    }
   ],
   "source": [
    "test_df_courses"
   ]
  },
  {
   "cell_type": "code",
   "execution_count": 12,
   "id": "d9936d40-2bf7-4739-aa62-a47f555667b2",
   "metadata": {},
   "outputs": [],
   "source": [
    "test_df_courses['item_id'] = test_df_courses['item_id'].apply(lambda x: [entity2id[i] - n_users for i in x])"
   ]
  },
  {
   "cell_type": "code",
   "execution_count": 13,
   "id": "e51e7c25-47b2-410b-bcfa-a775f21ba744",
   "metadata": {},
   "outputs": [],
   "source": [
    "def get_recommendations_bpr(x):\n",
    "    return recommend_bpr_user_index(bpr_user_matrix, bpr_item_matrix, 20, x)"
   ]
  },
  {
   "cell_type": "code",
   "execution_count": 14,
   "id": "b64d8c37-6ecc-4da8-bde1-1a351f65b5da",
   "metadata": {},
   "outputs": [],
   "source": [
    "def get_recommendations_transe(x):\n",
    "    return recommend_transe_user_index(transe_node_embeddings, transe_relation_embeddings[-1, :], 20, x)"
   ]
  },
  {
   "cell_type": "code",
   "execution_count": 15,
   "id": "da9b65ee-2ae4-4e56-99dd-a149eb611052",
   "metadata": {},
   "outputs": [],
   "source": [
    "def get_recommendations_rotate(x):\n",
    "    return recommend_rotate_user_index(rotate_node_embeddings, rotate_relation_embeddings[-1, :], 20, x)"
   ]
  },
  {
   "cell_type": "code",
   "execution_count": 16,
   "id": "7e5817af-e376-40c7-bf3c-f8677df5f3bd",
   "metadata": {},
   "outputs": [],
   "source": [
    "def calculate_average_ndcg_df(x, k=5):\n",
    "    return ndcg(x['predicted'], x['item_id'], k=k)"
   ]
  },
  {
   "cell_type": "code",
   "execution_count": 17,
   "id": "3777b283-439a-4699-9374-712abaab05ac",
   "metadata": {},
   "outputs": [],
   "source": [
    "def calculate_average_mrr_df(x):\n",
    "    return calculate_mrr(x['item_id'], x['predicted'])"
   ]
  },
  {
   "cell_type": "code",
   "execution_count": 18,
   "id": "9ac87697-abf9-4b8f-b1a2-9fddee77afd3",
   "metadata": {},
   "outputs": [],
   "source": [
    "def calculate_precision_df(x, k=5):\n",
    "    return calculate_precision_at_k(x['item_id'], x['predicted'], k=k)"
   ]
  },
  {
   "cell_type": "code",
   "execution_count": 19,
   "id": "99b93d47-682e-430d-8a49-6b46105a7cab",
   "metadata": {},
   "outputs": [],
   "source": [
    "def calculate_custom_precision_df(x, k=5):\n",
    "    return calculate_custom_precision_at_k(x['item_id'], x['predicted'], k=k)"
   ]
  },
  {
   "cell_type": "markdown",
   "id": "ed5ca345-5b9a-4308-a614-108be13ad7da",
   "metadata": {},
   "source": [
    "# BPR Measurement"
   ]
  },
  {
   "cell_type": "code",
   "execution_count": 20,
   "id": "3c5fb99d-f739-4f92-9dc0-228e0a754389",
   "metadata": {},
   "outputs": [],
   "source": [
    "test_df_courses['predicted'] = test_df_courses['user_id'].apply(get_recommendations_bpr)"
   ]
  },
  {
   "cell_type": "code",
   "execution_count": 21,
   "id": "05c4d40a",
   "metadata": {},
   "outputs": [
    {
     "data": {
      "text/html": [
       "<div>\n",
       "<style scoped>\n",
       "    .dataframe tbody tr th:only-of-type {\n",
       "        vertical-align: middle;\n",
       "    }\n",
       "\n",
       "    .dataframe tbody tr th {\n",
       "        vertical-align: top;\n",
       "    }\n",
       "\n",
       "    .dataframe thead th {\n",
       "        text-align: right;\n",
       "    }\n",
       "</style>\n",
       "<table border=\"1\" class=\"dataframe\">\n",
       "  <thead>\n",
       "    <tr style=\"text-align: right;\">\n",
       "      <th></th>\n",
       "      <th>user_id</th>\n",
       "      <th>item_id</th>\n",
       "      <th>rating</th>\n",
       "      <th>predicted</th>\n",
       "    </tr>\n",
       "  </thead>\n",
       "  <tbody>\n",
       "    <tr>\n",
       "      <th>0</th>\n",
       "      <td>3850</td>\n",
       "      <td>[45, 33]</td>\n",
       "      <td>[1, 1]</td>\n",
       "      <td>[37, 33, 2, 9, 39, 36, 43, 30, 84, 67, 44, 35,...</td>\n",
       "    </tr>\n",
       "    <tr>\n",
       "      <th>1</th>\n",
       "      <td>4552</td>\n",
       "      <td>[9]</td>\n",
       "      <td>[1]</td>\n",
       "      <td>[9, 37, 39, 2, 7, 36, 43, 8, 12, 31, 33, 13, 3...</td>\n",
       "    </tr>\n",
       "    <tr>\n",
       "      <th>2</th>\n",
       "      <td>4022</td>\n",
       "      <td>[22]</td>\n",
       "      <td>[1]</td>\n",
       "      <td>[8, 13, 7, 32, 12, 31, 9, 1, 3, 23, 0, 39, 54,...</td>\n",
       "    </tr>\n",
       "    <tr>\n",
       "      <th>3</th>\n",
       "      <td>1349</td>\n",
       "      <td>[38, 30]</td>\n",
       "      <td>[1, 1]</td>\n",
       "      <td>[104, 187, 113, 150, 189, 178, 184, 144, 188, ...</td>\n",
       "    </tr>\n",
       "    <tr>\n",
       "      <th>4</th>\n",
       "      <td>710</td>\n",
       "      <td>[54]</td>\n",
       "      <td>[1]</td>\n",
       "      <td>[13, 7, 8, 12, 9, 1, 54, 32, 31, 2, 39, 0, 74,...</td>\n",
       "    </tr>\n",
       "    <tr>\n",
       "      <th>...</th>\n",
       "      <td>...</td>\n",
       "      <td>...</td>\n",
       "      <td>...</td>\n",
       "      <td>...</td>\n",
       "    </tr>\n",
       "    <tr>\n",
       "      <th>6858</th>\n",
       "      <td>508</td>\n",
       "      <td>[7, 8]</td>\n",
       "      <td>[1, 1]</td>\n",
       "      <td>[35, 128, 116, 68, 21, 84, 22, 101, 19, 30, 45...</td>\n",
       "    </tr>\n",
       "    <tr>\n",
       "      <th>6859</th>\n",
       "      <td>5971</td>\n",
       "      <td>[140, 62]</td>\n",
       "      <td>[1, 1]</td>\n",
       "      <td>[9, 7, 8, 33, 12, 2, 13, 30, 43, 39, 36, 31, 5...</td>\n",
       "    </tr>\n",
       "    <tr>\n",
       "      <th>6860</th>\n",
       "      <td>5890</td>\n",
       "      <td>[13]</td>\n",
       "      <td>[1]</td>\n",
       "      <td>[7, 8, 13, 9, 12, 32, 31, 39, 2, 1, 43, 54, 23...</td>\n",
       "    </tr>\n",
       "    <tr>\n",
       "      <th>6861</th>\n",
       "      <td>370</td>\n",
       "      <td>[53, 20]</td>\n",
       "      <td>[1, 1]</td>\n",
       "      <td>[21, 84, 30, 35, 33, 77, 36, 2, 54, 40, 128, 3...</td>\n",
       "    </tr>\n",
       "    <tr>\n",
       "      <th>6862</th>\n",
       "      <td>2858</td>\n",
       "      <td>[61]</td>\n",
       "      <td>[1]</td>\n",
       "      <td>[7, 8, 13, 9, 32, 39, 12, 2, 31, 3, 23, 1, 43,...</td>\n",
       "    </tr>\n",
       "  </tbody>\n",
       "</table>\n",
       "<p>6863 rows × 4 columns</p>\n",
       "</div>"
      ],
      "text/plain": [
       "      user_id    item_id  rating  \\\n",
       "0        3850   [45, 33]  [1, 1]   \n",
       "1        4552        [9]     [1]   \n",
       "2        4022       [22]     [1]   \n",
       "3        1349   [38, 30]  [1, 1]   \n",
       "4         710       [54]     [1]   \n",
       "...       ...        ...     ...   \n",
       "6858      508     [7, 8]  [1, 1]   \n",
       "6859     5971  [140, 62]  [1, 1]   \n",
       "6860     5890       [13]     [1]   \n",
       "6861      370   [53, 20]  [1, 1]   \n",
       "6862     2858       [61]     [1]   \n",
       "\n",
       "                                              predicted  \n",
       "0     [37, 33, 2, 9, 39, 36, 43, 30, 84, 67, 44, 35,...  \n",
       "1     [9, 37, 39, 2, 7, 36, 43, 8, 12, 31, 33, 13, 3...  \n",
       "2     [8, 13, 7, 32, 12, 31, 9, 1, 3, 23, 0, 39, 54,...  \n",
       "3     [104, 187, 113, 150, 189, 178, 184, 144, 188, ...  \n",
       "4     [13, 7, 8, 12, 9, 1, 54, 32, 31, 2, 39, 0, 74,...  \n",
       "...                                                 ...  \n",
       "6858  [35, 128, 116, 68, 21, 84, 22, 101, 19, 30, 45...  \n",
       "6859  [9, 7, 8, 33, 12, 2, 13, 30, 43, 39, 36, 31, 5...  \n",
       "6860  [7, 8, 13, 9, 12, 32, 31, 39, 2, 1, 43, 54, 23...  \n",
       "6861  [21, 84, 30, 35, 33, 77, 36, 2, 54, 40, 128, 3...  \n",
       "6862  [7, 8, 13, 9, 32, 39, 12, 2, 31, 3, 23, 1, 43,...  \n",
       "\n",
       "[6863 rows x 4 columns]"
      ]
     },
     "execution_count": 21,
     "metadata": {},
     "output_type": "execute_result"
    }
   ],
   "source": [
    "test_df_courses"
   ]
  },
  {
   "cell_type": "code",
   "execution_count": 22,
   "id": "92856f4a-b9b3-4e95-9633-e2246dd63982",
   "metadata": {},
   "outputs": [],
   "source": [
    "ground_truth = test_df_courses['item_id'].tolist()"
   ]
  },
  {
   "cell_type": "code",
   "execution_count": 23,
   "id": "f010a227-4fb0-4616-81c0-bdb24842d610",
   "metadata": {},
   "outputs": [],
   "source": [
    "predicted = test_df_courses['predicted'].tolist()"
   ]
  },
  {
   "cell_type": "code",
   "execution_count": 24,
   "id": "d1c2fcbe-83fb-4d8c-b123-20e0f981e991",
   "metadata": {},
   "outputs": [
    {
     "data": {
      "text/plain": [
       "0.20124410257829725"
      ]
     },
     "execution_count": 24,
     "metadata": {},
     "output_type": "execute_result"
    }
   ],
   "source": [
    "calculate_average_ndcg_at_k(ground_truth, predicted, 5)"
   ]
  },
  {
   "cell_type": "code",
   "execution_count": 25,
   "id": "b5a34927-5b70-4635-b69b-a5a93945ead7",
   "metadata": {},
   "outputs": [
    {
     "data": {
      "text/plain": [
       "0.14719306878852864"
      ]
     },
     "execution_count": 25,
     "metadata": {},
     "output_type": "execute_result"
    }
   ],
   "source": [
    "calculate_average_mrr(ground_truth, predicted)"
   ]
  },
  {
   "cell_type": "code",
   "execution_count": 26,
   "id": "70befb6c-4c68-4536-b28d-bc5e758d2da3",
   "metadata": {},
   "outputs": [
    {
     "data": {
      "text/plain": [
       "0.2418184467434066"
      ]
     },
     "execution_count": 26,
     "metadata": {},
     "output_type": "execute_result"
    }
   ],
   "source": [
    "calculate_average_custom_precision_at_k(ground_truth, predicted, 5)"
   ]
  },
  {
   "cell_type": "code",
   "execution_count": 27,
   "id": "694a1572",
   "metadata": {},
   "outputs": [
    {
     "data": {
      "text/plain": [
       "0.19833891884017188"
      ]
     },
     "execution_count": 27,
     "metadata": {},
     "output_type": "execute_result"
    }
   ],
   "source": [
    "calculate_average_precision_at_k(ground_truth, predicted, 5)"
   ]
  },
  {
   "cell_type": "code",
   "execution_count": 28,
   "id": "40de6567-8c2c-4a11-b7fa-5bad824b5135",
   "metadata": {},
   "outputs": [],
   "source": [
    "test_df_courses['ndcg_at_5'] = test_df_courses.apply(calculate_average_ndcg_df, axis=1)"
   ]
  },
  {
   "cell_type": "code",
   "execution_count": 29,
   "id": "b38bba81-b292-4e33-8f00-9a7f379ebd46",
   "metadata": {},
   "outputs": [],
   "source": [
    "test_df_courses['mrr'] = test_df_courses.apply(calculate_average_mrr_df, axis=1)"
   ]
  },
  {
   "cell_type": "code",
   "execution_count": 30,
   "id": "8daa4286-7fc7-4e6a-ae2c-dc2f3680d996",
   "metadata": {},
   "outputs": [],
   "source": [
    "test_df_courses['precision_at_5'] = test_df_courses.apply(calculate_precision_df, axis=1)"
   ]
  },
  {
   "cell_type": "code",
   "execution_count": 31,
   "id": "66bfa429-37d5-4a8e-bf55-063f20f4c66b",
   "metadata": {},
   "outputs": [],
   "source": [
    "test_df_courses['custom_precision_at_5'] = test_df_courses.apply(calculate_custom_precision_df, axis=1)"
   ]
  },
  {
   "cell_type": "code",
   "execution_count": 32,
   "id": "932cc895-f8ec-4574-840a-54e924c8e68b",
   "metadata": {},
   "outputs": [
    {
     "data": {
      "text/plain": [
       "np.float64(0.2012441025782957)"
      ]
     },
     "execution_count": 32,
     "metadata": {},
     "output_type": "execute_result"
    }
   ],
   "source": [
    "test_df_courses['ndcg_at_5'].mean()"
   ]
  },
  {
   "cell_type": "code",
   "execution_count": 33,
   "id": "56694ce8-f5cc-4cec-a071-7f78c0b38613",
   "metadata": {},
   "outputs": [
    {
     "data": {
      "text/plain": [
       "np.float64(0.14719306878852798)"
      ]
     },
     "execution_count": 33,
     "metadata": {},
     "output_type": "execute_result"
    }
   ],
   "source": [
    "test_df_courses['mrr'].mean()"
   ]
  },
  {
   "cell_type": "code",
   "execution_count": 34,
   "id": "bf3493fa-a280-4cd7-92aa-e597acfae84e",
   "metadata": {},
   "outputs": [
    {
     "data": {
      "text/plain": [
       "np.float64(0.19833891884015742)"
      ]
     },
     "execution_count": 34,
     "metadata": {},
     "output_type": "execute_result"
    }
   ],
   "source": [
    "test_df_courses['precision_at_5'].mean()"
   ]
  },
  {
   "cell_type": "code",
   "execution_count": 35,
   "id": "20c6e732-2619-4607-ad09-b787b90b2a41",
   "metadata": {},
   "outputs": [
    {
     "data": {
      "text/plain": [
       "np.float64(0.24181844674340666)"
      ]
     },
     "execution_count": 35,
     "metadata": {},
     "output_type": "execute_result"
    }
   ],
   "source": [
    "test_df_courses['custom_precision_at_5'].mean()"
   ]
  },
  {
   "cell_type": "markdown",
   "id": "36f95553-09e0-49f0-8e5a-30b837524cdd",
   "metadata": {},
   "source": [
    "# TransE"
   ]
  },
  {
   "cell_type": "code",
   "execution_count": 36,
   "id": "ba3fc48e-d5f7-49b3-963e-607ac3c7dcc1",
   "metadata": {},
   "outputs": [],
   "source": [
    "test_df_courses['predicted'] = test_df_courses['user_id'].apply(get_recommendations_transe)"
   ]
  },
  {
   "cell_type": "code",
   "execution_count": 37,
   "id": "8c50b992-a677-4136-b3a1-d9c825ee6526",
   "metadata": {},
   "outputs": [],
   "source": [
    "ground_truth = test_df_courses['item_id'].tolist()"
   ]
  },
  {
   "cell_type": "code",
   "execution_count": 38,
   "id": "59725b64-222a-429f-9ed4-a498542cf0ec",
   "metadata": {},
   "outputs": [],
   "source": [
    "predicted = test_df_courses['predicted'].tolist()"
   ]
  },
  {
   "cell_type": "code",
   "execution_count": 39,
   "id": "56dbc6de-9858-4acd-9288-d077d68b098d",
   "metadata": {},
   "outputs": [
    {
     "data": {
      "text/plain": [
       "0.01587847033377773"
      ]
     },
     "execution_count": 39,
     "metadata": {},
     "output_type": "execute_result"
    }
   ],
   "source": [
    "calculate_average_ndcg_at_k(ground_truth, predicted, 5)"
   ]
  },
  {
   "cell_type": "code",
   "execution_count": 40,
   "id": "09941a10-b492-4b41-8cc7-c9bd2c38a2be",
   "metadata": {},
   "outputs": [
    {
     "data": {
      "text/plain": [
       "0.026193128266863316"
      ]
     },
     "execution_count": 40,
     "metadata": {},
     "output_type": "execute_result"
    }
   ],
   "source": [
    "calculate_average_mrr(ground_truth, predicted)"
   ]
  },
  {
   "cell_type": "code",
   "execution_count": 41,
   "id": "7aa6a73b-dbd8-47d7-97c1-609e9e4ce714",
   "metadata": {},
   "outputs": [
    {
     "data": {
      "text/plain": [
       "0.01587847033377773"
      ]
     },
     "execution_count": 41,
     "metadata": {},
     "output_type": "execute_result"
    }
   ],
   "source": [
    "calculate_average_ndcg_at_k(ground_truth, predicted, 5)"
   ]
  },
  {
   "cell_type": "code",
   "execution_count": 42,
   "id": "f05c1689-6456-4764-ba15-77bac82b8ac5",
   "metadata": {},
   "outputs": [
    {
     "data": {
      "text/plain": [
       "0.01942056437903735"
      ]
     },
     "execution_count": 42,
     "metadata": {},
     "output_type": "execute_result"
    }
   ],
   "source": [
    "calculate_average_custom_precision_at_k(ground_truth, predicted, 5)"
   ]
  },
  {
   "cell_type": "code",
   "execution_count": 43,
   "id": "e699ef5c-7efe-4d14-bcad-1ea796ddf861",
   "metadata": {},
   "outputs": [],
   "source": [
    "test_df_courses['ndcg_at_5'] = test_df_courses.apply(calculate_average_ndcg_df, axis=1)"
   ]
  },
  {
   "cell_type": "code",
   "execution_count": 44,
   "id": "3d900734-7937-42f7-abd0-785b06637548",
   "metadata": {},
   "outputs": [],
   "source": [
    "test_df_courses['mrr'] = test_df_courses.apply(calculate_average_mrr_df, axis=1)"
   ]
  },
  {
   "cell_type": "code",
   "execution_count": 45,
   "id": "6915f36c-c7f5-4226-b8a6-1959197270e0",
   "metadata": {},
   "outputs": [],
   "source": [
    "test_df_courses['precision_at_5'] = test_df_courses.apply(calculate_precision_df, axis=1)"
   ]
  },
  {
   "cell_type": "code",
   "execution_count": 46,
   "id": "2004e3e0-b2e8-48b9-8499-4370126e1556",
   "metadata": {},
   "outputs": [],
   "source": [
    "test_df_courses['custom_precision_at_5'] = test_df_courses.apply(calculate_custom_precision_df, axis=1)"
   ]
  },
  {
   "cell_type": "code",
   "execution_count": 47,
   "id": "b777d91b-7b1b-4d37-9ba1-0d8e87a42c6f",
   "metadata": {},
   "outputs": [
    {
     "data": {
      "text/plain": [
       "np.float64(0.015878470333777747)"
      ]
     },
     "execution_count": 47,
     "metadata": {},
     "output_type": "execute_result"
    }
   ],
   "source": [
    "test_df_courses['ndcg_at_5'].mean()"
   ]
  },
  {
   "cell_type": "code",
   "execution_count": 48,
   "id": "574d557f-affa-40d0-8532-e09a4d3e0639",
   "metadata": {},
   "outputs": [
    {
     "data": {
      "text/plain": [
       "np.float64(0.026193128266863274)"
      ]
     },
     "execution_count": 48,
     "metadata": {},
     "output_type": "execute_result"
    }
   ],
   "source": [
    "test_df_courses['mrr'].mean()"
   ]
  },
  {
   "cell_type": "code",
   "execution_count": 49,
   "id": "2cbf97c7-f83d-46d4-8549-c21fe1a986ed",
   "metadata": {},
   "outputs": [
    {
     "data": {
      "text/plain": [
       "np.float64(0.04720967506921171)"
      ]
     },
     "execution_count": 49,
     "metadata": {},
     "output_type": "execute_result"
    }
   ],
   "source": [
    "test_df_courses['precision_at_5'].mean()"
   ]
  },
  {
   "cell_type": "code",
   "execution_count": 50,
   "id": "dafdb485-49ca-4f1d-8b3c-92b1af602ae1",
   "metadata": {},
   "outputs": [
    {
     "data": {
      "text/plain": [
       "np.float64(0.01942056437903735)"
      ]
     },
     "execution_count": 50,
     "metadata": {},
     "output_type": "execute_result"
    }
   ],
   "source": [
    "test_df_courses['custom_precision_at_5'].mean()"
   ]
  },
  {
   "cell_type": "markdown",
   "id": "5a7fc007-5e05-47c8-b895-313ab835a1b8",
   "metadata": {},
   "source": [
    "# RotatE"
   ]
  },
  {
   "cell_type": "code",
   "execution_count": 51,
   "id": "c595a2ef-0d7b-4dcd-8761-483d994cb4cb",
   "metadata": {},
   "outputs": [],
   "source": [
    "test_df_courses['predicted'] = test_df_courses['user_id'].apply(get_recommendations_rotate)"
   ]
  },
  {
   "cell_type": "code",
   "execution_count": 52,
   "id": "ec5e9fda-9204-44c3-82dc-651ecaea6e14",
   "metadata": {},
   "outputs": [],
   "source": [
    "ground_truth = test_df_courses['item_id'].tolist()"
   ]
  },
  {
   "cell_type": "code",
   "execution_count": 53,
   "id": "9259740a-fcb7-4f1e-87ee-e8a33ef54abd",
   "metadata": {},
   "outputs": [],
   "source": [
    "predicted = test_df_courses['predicted'].tolist()"
   ]
  },
  {
   "cell_type": "code",
   "execution_count": 54,
   "id": "e7e959c8-ba8c-4b61-a4fd-c59e5e26d9f6",
   "metadata": {},
   "outputs": [
    {
     "data": {
      "text/plain": [
       "0.029289252585624145"
      ]
     },
     "execution_count": 54,
     "metadata": {},
     "output_type": "execute_result"
    }
   ],
   "source": [
    "calculate_average_ndcg_at_k(ground_truth, predicted, 5)"
   ]
  },
  {
   "cell_type": "code",
   "execution_count": 55,
   "id": "28f87b4f-05bc-4a00-804b-d7518937e450",
   "metadata": {},
   "outputs": [
    {
     "data": {
      "text/plain": [
       "0.031859107622635656"
      ]
     },
     "execution_count": 55,
     "metadata": {},
     "output_type": "execute_result"
    }
   ],
   "source": [
    "calculate_average_mrr(ground_truth, predicted)"
   ]
  },
  {
   "cell_type": "code",
   "execution_count": 56,
   "id": "f7f6c3ff-4177-4872-9854-e34ffe2783c8",
   "metadata": {},
   "outputs": [
    {
     "data": {
      "text/plain": [
       "0.029289252585624145"
      ]
     },
     "execution_count": 56,
     "metadata": {},
     "output_type": "execute_result"
    }
   ],
   "source": [
    "calculate_average_ndcg_at_k(ground_truth, predicted, 5)"
   ]
  },
  {
   "cell_type": "code",
   "execution_count": 57,
   "id": "bf34a847-c9e7-432c-98c9-4c11ee4536ef",
   "metadata": {},
   "outputs": [
    {
     "data": {
      "text/plain": [
       "0.02895478167953763"
      ]
     },
     "execution_count": 57,
     "metadata": {},
     "output_type": "execute_result"
    }
   ],
   "source": [
    "calculate_average_custom_precision_at_k(ground_truth, predicted, 5)"
   ]
  },
  {
   "cell_type": "code",
   "execution_count": 58,
   "id": "95acb5ba-66e0-4227-a5c4-0babcc7a2ace",
   "metadata": {},
   "outputs": [],
   "source": [
    "test_df_courses['ndcg_at_5'] = test_df_courses.apply(calculate_average_ndcg_df, axis=1)"
   ]
  },
  {
   "cell_type": "code",
   "execution_count": 59,
   "id": "eec793ba-6317-4851-90cd-c60c107bcf55",
   "metadata": {},
   "outputs": [],
   "source": [
    "test_df_courses['mrr'] = test_df_courses.apply(calculate_average_mrr_df, axis=1)"
   ]
  },
  {
   "cell_type": "code",
   "execution_count": 60,
   "id": "b50176df-ab1d-4058-8475-f0c609c48dd1",
   "metadata": {},
   "outputs": [],
   "source": [
    "test_df_courses['precision_at_5'] = test_df_courses.apply(calculate_precision_df, axis=1)"
   ]
  },
  {
   "cell_type": "code",
   "execution_count": 61,
   "id": "e7d3f88f-8564-4959-9f3e-413db2212227",
   "metadata": {},
   "outputs": [],
   "source": [
    "test_df_courses['custom_precision_at_5'] = test_df_courses.apply(calculate_custom_precision_df, axis=1)"
   ]
  },
  {
   "cell_type": "code",
   "execution_count": 62,
   "id": "2a140244-d706-4300-82d0-1672ef4ba503",
   "metadata": {},
   "outputs": [
    {
     "data": {
      "text/plain": [
       "np.float64(0.02928925258562421)"
      ]
     },
     "execution_count": 62,
     "metadata": {},
     "output_type": "execute_result"
    }
   ],
   "source": [
    "test_df_courses['ndcg_at_5'].mean()"
   ]
  },
  {
   "cell_type": "code",
   "execution_count": 63,
   "id": "eef7ea2b-e37c-4d73-90d6-4ea58c8787b4",
   "metadata": {},
   "outputs": [
    {
     "data": {
      "text/plain": [
       "np.float64(0.031859107622635656)"
      ]
     },
     "execution_count": 63,
     "metadata": {},
     "output_type": "execute_result"
    }
   ],
   "source": [
    "test_df_courses['mrr'].mean()"
   ]
  },
  {
   "cell_type": "code",
   "execution_count": 64,
   "id": "eac02f8b-37ca-44f9-a9de-a98e3da830b8",
   "metadata": {},
   "outputs": [
    {
     "data": {
      "text/plain": [
       "np.float64(0.03794259070377386)"
      ]
     },
     "execution_count": 64,
     "metadata": {},
     "output_type": "execute_result"
    }
   ],
   "source": [
    "test_df_courses['precision_at_5'].mean()"
   ]
  },
  {
   "cell_type": "code",
   "execution_count": 65,
   "id": "58c52e4b-ada9-4a95-82e0-c0376e424da1",
   "metadata": {},
   "outputs": [
    {
     "data": {
      "text/plain": [
       "np.float64(0.028954781679537616)"
      ]
     },
     "execution_count": 65,
     "metadata": {},
     "output_type": "execute_result"
    }
   ],
   "source": [
    "test_df_courses['custom_precision_at_5'].mean()"
   ]
  },
  {
   "cell_type": "code",
   "execution_count": null,
   "id": "eb39a6b1-d7fd-47a4-8ca6-88c8c66b2925",
   "metadata": {},
   "outputs": [],
   "source": []
  }
 ],
 "metadata": {
  "kernelspec": {
   "display_name": "local_citation_env",
   "language": "python",
   "name": "python3"
  },
  "language_info": {
   "codemirror_mode": {
    "name": "ipython",
    "version": 3
   },
   "file_extension": ".py",
   "mimetype": "text/x-python",
   "name": "python",
   "nbconvert_exporter": "python",
   "pygments_lexer": "ipython3",
   "version": "3.10.12"
  }
 },
 "nbformat": 4,
 "nbformat_minor": 5
}
